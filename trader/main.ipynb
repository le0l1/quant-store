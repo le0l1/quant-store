{
 "cells": [
  {
   "cell_type": "code",
   "execution_count": 1,
   "id": "171205d0-ffa0-4f3e-a327-3e094d635864",
   "metadata": {
    "scrolled": true
   },
   "outputs": [
    {
     "name": "stderr",
     "output_type": "stream",
     "text": [
      "2025-04-27 09:11:52,110 - backtester - INFO - Backtester initialized with configuration.\n",
      "2025-04-27 09:11:52,111 - backtester - INFO - ========== Running Backtest ==========\n",
      "2025-04-27 09:11:52,111 - backtester - INFO - Setting up backtest components...\n",
      "2025-04-27 09:11:52,111 - event_engine - INFO - 事件引擎 'DefaultEngine' 初始化完成。\n",
      "2025-04-27 09:11:52,112 - event_engine - INFO - 处理器 on_event 已注册监听事件类型 'FILL'。\n",
      "2025-04-27 09:11:52,112 - event_engine - INFO - 处理器 on_event 已注册监听事件类型 'MARKET'。\n",
      "2025-04-27 09:11:52,112 - portfolio - INFO - BasicPortfolioManager 已注册监听 FILL 和 MARKET。\n",
      "2025-04-27 09:11:52,112 - portfolio - INFO - BasicPortfolioManager 初始化。\n",
      "2025-04-27 09:11:52,113 - portfolio - INFO - BasicPortfolioManager 初始化: 初始资金 = $100000.00\n",
      "2025-04-27 09:11:52,114 - event_engine - INFO - 处理器 on_event 已注册监听事件类型 'MARKET'。\n",
      "2025-04-27 09:11:52,114 - data_handler - INFO - BasicDataHandler 已注册到事件引擎处理 MARKET。\n",
      "2025-04-27 09:11:52,114 - data_handler - INFO - BasicDataHandler 初始化，关注符号: ['AAPL', 'GOOG']\n",
      "2025-04-27 09:11:52,115 - data_handler - INFO - BasicDataHandler 初始化，每个符号最多存储 1000 条 K 线。\n",
      "2025-04-27 09:11:52,115 - strategy - INFO - 策略 'MovingAverageCrossStrategy' 初始化，关注符号: ['AAPL', 'GOOG']\n",
      "2025-04-27 09:11:52,115 - strategy - INFO - 移动平均线交叉策略 'MovingAverageCrossStrategy' 初始化完成。\n",
      "2025-04-27 09:11:52,115 - event_engine - INFO - 通用处理器 handle_event 已注册。\n",
      "2025-04-27 09:11:52,115 - strategy - INFO - 策略 'MovingAverageCrossStrategy' 的 handle_event 已注册监听所有事件。\n",
      "2025-04-27 09:11:52,116 - event_engine - INFO - 处理器 on_event 已注册监听事件类型 'ORDER'。\n",
      "2025-04-27 09:11:52,116 - execution - INFO - BacktestExecutionHandler 已注册到事件引擎处理 ORDER。\n",
      "2025-04-27 09:11:52,116 - execution - INFO - BacktestExecutionHandler 初始化完成。\n",
      "2025-04-27 09:11:52,116 - event_engine - INFO - 处理器 on_event 已注册监听事件类型 'MARKET'。\n",
      "2025-04-27 09:11:52,117 - execution - INFO - BacktestExecutionHandler 同时注册监听 MARKET 以处理挂单。\n",
      "2025-04-27 09:11:52,117 - execution - INFO - BacktestExecutionHandler 初始化: 佣金率=0.0005, 滑点=0.0002\n",
      "2025-04-27 09:11:52,117 - data_source - INFO - CSVDataSource 初始化，关注符号: ['AAPL', 'GOOG']\n",
      "2025-04-27 09:11:52,118 - data_source - INFO - 开始从目录 './data' 加载符号 ['AAPL', 'GOOG'] 的数据...\n",
      "2025-04-27 09:11:52,120 - data_source - ERROR - 数据文件未找到: ./data/AAPL.csv\n",
      "2025-04-27 09:11:52,121 - data_source - ERROR - 数据文件未找到: ./data/GOOG.csv\n",
      "2025-04-27 09:11:52,121 - data_source - ERROR - 未能加载任何有效的 CSV 数据。\n",
      "2025-04-27 09:11:52,122 - backtester - INFO - All components set up successfully using resolved configurations.\n",
      "2025-04-27 09:11:52,122 - backtester - INFO - Starting event engine...\n",
      "2025-04-27 09:11:52,123 - event_engine - INFO - 事件引擎 'DefaultEngine' 线程启动。\n",
      "2025-04-27 09:11:52,123 - event_engine - INFO - 事件引擎 'DefaultEngine' 已启动。\n",
      "2025-04-27 09:11:52,124 - backtester - INFO - Activating strategy...\n",
      "2025-04-27 09:11:52,124 - backtester - INFO - Starting data stream...\n",
      "2025-04-27 09:11:52,124 - data_source - WARNING - 数据为空，CSV 数据源无法启动。\n",
      "2025-04-27 09:11:52,125 - data_source - WARNING - 尝试获取数据流，但数据源未启动或数据为空。\n",
      "2025-04-27 09:11:52,125 - backtester - INFO - Finished putting 0 market events.\n",
      "2025-04-27 09:11:52,125 - data_source - INFO - CSV 数据源已停止。\n",
      "2025-04-27 09:11:52,126 - backtester - INFO - Waiting for event queue to empty...\n",
      "2025-04-27 09:11:52,126 - backtester - INFO - Event queue empty.\n",
      "2025-04-27 09:11:52,629 - backtester - INFO - Deactivating strategy...\n",
      "2025-04-27 09:11:52,633 - strategy - INFO - 策略 'MovingAverageCrossStrategy' 已停用。\n",
      "2025-04-27 09:11:52,634 - backtester - INFO - Stopping event engine...\n",
      "2025-04-27 09:11:52,635 - event_engine - INFO - 正在等待事件引擎 'DefaultEngine' 线程停止...\n",
      "2025-04-27 09:11:52,647 - event_engine - INFO - 事件引擎 'DefaultEngine' 线程正常停止。\n",
      "2025-04-27 09:11:52,650 - event_engine - INFO - 事件引擎 'DefaultEngine' 线程已成功停止。\n"
     ]
    },
    {
     "ename": "AttributeError",
     "evalue": "'Backtester' object has no attribute '_performance_analyzer'",
     "output_type": "error",
     "traceback": [
      "\u001b[0;31m---------------------------------------------------------------------------\u001b[0m",
      "\u001b[0;31mAttributeError\u001b[0m                            Traceback (most recent call last)",
      "Cell \u001b[0;32mIn[1], line 58\u001b[0m\n\u001b[1;32m     54\u001b[0m \u001b[38;5;28;01mif\u001b[39;00m \u001b[38;5;18m__name__\u001b[39m \u001b[38;5;241m==\u001b[39m \u001b[38;5;124m\"\u001b[39m\u001b[38;5;124m__main__\u001b[39m\u001b[38;5;124m\"\u001b[39m:\n\u001b[1;32m     55\u001b[0m     \u001b[38;5;66;03m# (Dummy data generation code can remain here)\u001b[39;00m\n\u001b[1;32m     57\u001b[0m     backtester \u001b[38;5;241m=\u001b[39m Backtester(config)\n\u001b[0;32m---> 58\u001b[0m     results \u001b[38;5;241m=\u001b[39m \u001b[43mbacktester\u001b[49m\u001b[38;5;241;43m.\u001b[39;49m\u001b[43mrun\u001b[49m\u001b[43m(\u001b[49m\u001b[43m)\u001b[49m\n\u001b[1;32m     60\u001b[0m     \u001b[38;5;66;03m# (Result printing code remains the same)\u001b[39;00m\n\u001b[1;32m     61\u001b[0m     \u001b[38;5;28mprint\u001b[39m(\u001b[38;5;124m\"\u001b[39m\u001b[38;5;130;01m\\n\u001b[39;00m\u001b[38;5;124m--- Backtest Summary ---\u001b[39m\u001b[38;5;124m\"\u001b[39m)\n",
      "File \u001b[0;32m~/data/trader/backtester.py:210\u001b[0m, in \u001b[0;36mBacktester.run\u001b[0;34m(self)\u001b[0m\n\u001b[1;32m    207\u001b[0m \u001b[38;5;28mself\u001b[39m\u001b[38;5;241m.\u001b[39m_engine\u001b[38;5;241m.\u001b[39mstop(wait\u001b[38;5;241m=\u001b[39m\u001b[38;5;28;01mTrue\u001b[39;00m)\n\u001b[1;32m    209\u001b[0m \u001b[38;5;66;03m# 8. Collect Results\u001b[39;00m\n\u001b[0;32m--> 210\u001b[0m \u001b[38;5;28mself\u001b[39m\u001b[38;5;241m.\u001b[39m_results \u001b[38;5;241m=\u001b[39m \u001b[38;5;28;43mself\u001b[39;49m\u001b[38;5;241;43m.\u001b[39;49m\u001b[43m_collect_results\u001b[49m\u001b[43m(\u001b[49m\u001b[43m)\u001b[49m\n\u001b[1;32m    212\u001b[0m end_time \u001b[38;5;241m=\u001b[39m time\u001b[38;5;241m.\u001b[39mtime()\n\u001b[1;32m    213\u001b[0m \u001b[38;5;28mself\u001b[39m\u001b[38;5;241m.\u001b[39m_results[\u001b[38;5;124m'\u001b[39m\u001b[38;5;124mruntime_seconds\u001b[39m\u001b[38;5;124m'\u001b[39m] \u001b[38;5;241m=\u001b[39m \u001b[38;5;28mround\u001b[39m(end_time \u001b[38;5;241m-\u001b[39m \u001b[38;5;28mself\u001b[39m\u001b[38;5;241m.\u001b[39m_start_time, \u001b[38;5;241m2\u001b[39m)\n",
      "File \u001b[0;32m~/data/trader/backtester.py:239\u001b[0m, in \u001b[0;36mBacktester._collect_results\u001b[0;34m(self)\u001b[0m\n\u001b[1;32m    236\u001b[0m all_positions \u001b[38;5;241m=\u001b[39m \u001b[38;5;28mself\u001b[39m\u001b[38;5;241m.\u001b[39m_portfolio_manager\u001b[38;5;241m.\u001b[39mget_all_positions()\n\u001b[1;32m    238\u001b[0m performance_stats \u001b[38;5;241m=\u001b[39m {}\n\u001b[0;32m--> 239\u001b[0m \u001b[38;5;28;01mif\u001b[39;00m \u001b[38;5;28;43mself\u001b[39;49m\u001b[38;5;241;43m.\u001b[39;49m\u001b[43m_performance_analyzer\u001b[49m:\n\u001b[1;32m    240\u001b[0m      performance_stats \u001b[38;5;241m=\u001b[39m \u001b[38;5;28mself\u001b[39m\u001b[38;5;241m.\u001b[39m_performance_analyzer\u001b[38;5;241m.\u001b[39mget_results()\n\u001b[1;32m    242\u001b[0m \u001b[38;5;28;01mreturn\u001b[39;00m {\n\u001b[1;32m    243\u001b[0m     \u001b[38;5;124m\"\u001b[39m\u001b[38;5;124msummary\u001b[39m\u001b[38;5;124m\"\u001b[39m: portfolio_summary,\n\u001b[1;32m    244\u001b[0m     \u001b[38;5;124m\"\u001b[39m\u001b[38;5;124mequity_curve\u001b[39m\u001b[38;5;124m\"\u001b[39m: equity_curve, \u001b[38;5;66;03m# List of (datetime, float) tuples\u001b[39;00m\n\u001b[1;32m    245\u001b[0m     \u001b[38;5;124m\"\u001b[39m\u001b[38;5;124mfinal_positions\u001b[39m\u001b[38;5;124m\"\u001b[39m: {sym: pos\u001b[38;5;241m.\u001b[39m\u001b[38;5;18m__dict__\u001b[39m \u001b[38;5;28;01mfor\u001b[39;00m sym, pos \u001b[38;5;129;01min\u001b[39;00m all_positions\u001b[38;5;241m.\u001b[39mitems()}, \u001b[38;5;66;03m# Convert Position objects\u001b[39;00m\n\u001b[1;32m    246\u001b[0m     \u001b[38;5;124m\"\u001b[39m\u001b[38;5;124mperformance_metrics\u001b[39m\u001b[38;5;124m\"\u001b[39m: performance_stats\n\u001b[1;32m    247\u001b[0m }\n",
      "\u001b[0;31mAttributeError\u001b[0m: 'Backtester' object has no attribute '_performance_analyzer'"
     ]
    }
   ],
   "source": [
    "# main.py\n",
    "import logging\n",
    "from datetime import datetime\n",
    "\n",
    "# 从框架导入 Backtester\n",
    "from backtester import Backtester\n",
    "# 从策略文件导入用户的策略类\n",
    "from strategy import MovingAverageCrossStrategy\n",
    "# 从数据源文件导入使用的数据源类\n",
    "from data_source import CSVDataSource\n",
    "\n",
    "\n",
    "# --- 用户配置 (简化版) ---\n",
    "config = {\n",
    "    # === 核心配置 (必须) ===\n",
    "    'initial_capital': 100000.0,\n",
    "    'start_date': datetime(2023, 1, 1),\n",
    "    'end_date': datetime(2023, 12, 31),\n",
    "    'symbols': ['AAPL', 'GOOG'],\n",
    "\n",
    "    # === 数据源配置 (必须) ===\n",
    "    'data_source_config': {\n",
    "        'class': CSVDataSource,\n",
    "        'params': {\n",
    "            'csv_dir': './data'\n",
    "        }\n",
    "    },\n",
    "\n",
    "    # === 策略配置 (必须) ===\n",
    "    'strategy_config': {\n",
    "        'class': MovingAverageCrossStrategy,\n",
    "        'params': {\n",
    "            'short_window': 15,\n",
    "            'long_window': 45\n",
    "        }\n",
    "    },\n",
    "\n",
    "    # === 执行配置 (可选, 使用默认值或覆盖) ===\n",
    "    'execution_config': {\n",
    "        # 'class': MyCustomExecutionHandler, # 取消注释以使用自定义类\n",
    "        'commission_rate': 0.0005,         # 覆盖默认佣金 (默认是 0)\n",
    "        'slippage_per_trade': 0.0002      # 覆盖默认滑点 (默认是 0)\n",
    "    },\n",
    "\n",
    "    # === 其他可选配置 (只有在需要自定义时才添加) ===\n",
    "    # 'portfolio_config': {'class': MyPortfolio, 'params': {...}},\n",
    "    # 'data_handler_config': {'class': MyDataHandler, 'params': {...}},\n",
    "    # 'performance_analyzer_config': {'class': MyPerfAnalyzer, 'params': {...}},\n",
    "    # 'log_level': 'DEBUG' # 覆盖默认日志级别 INFO\n",
    "}\n",
    "\n",
    "\n",
    "# --- 执行回测 ---\n",
    "if __name__ == \"__main__\":\n",
    "    # (Dummy data generation code can remain here)\n",
    "\n",
    "    backtester = Backtester(config)\n",
    "    results = backtester.run()\n",
    "\n",
    "    # (Result printing code remains the same)\n",
    "    print(\"\\n--- Backtest Summary ---\")\n",
    "    # ... (rest of the result printing)"
   ]
  },
  {
   "cell_type": "code",
   "execution_count": 5,
   "id": "2513ec05-e65e-4eae-91d5-880309439566",
   "metadata": {},
   "outputs": [
    {
     "ename": "ImportError",
     "evalue": "IProgress not found. Please update jupyter and ipywidgets. See https://ipywidgets.readthedocs.io/en/stable/user_install.html",
     "output_type": "error",
     "traceback": [
      "\u001b[0;31m---------------------------------------------------------------------------\u001b[0m",
      "\u001b[0;31mImportError\u001b[0m                               Traceback (most recent call last)",
      "Cell \u001b[0;32mIn[5], line 3\u001b[0m\n\u001b[1;32m      1\u001b[0m \u001b[38;5;28;01mimport\u001b[39;00m \u001b[38;5;21;01makshare\u001b[39;00m \u001b[38;5;28;01mas\u001b[39;00m \u001b[38;5;21;01mak\u001b[39;00m\n\u001b[0;32m----> 3\u001b[0m fund_etf_hist_em_df \u001b[38;5;241m=\u001b[39m \u001b[43mak\u001b[49m\u001b[38;5;241;43m.\u001b[39;49m\u001b[43mfund_etf_hist_em\u001b[49m\u001b[43m(\u001b[49m\u001b[43msymbol\u001b[49m\u001b[38;5;241;43m=\u001b[39;49m\u001b[38;5;124;43m\"\u001b[39;49m\u001b[38;5;124;43m513500\u001b[39;49m\u001b[38;5;124;43m\"\u001b[39;49m\u001b[43m,\u001b[49m\u001b[43m \u001b[49m\u001b[43mstart_date\u001b[49m\u001b[38;5;241;43m=\u001b[39;49m\u001b[38;5;124;43m\"\u001b[39;49m\u001b[38;5;124;43m20220101\u001b[39;49m\u001b[38;5;124;43m\"\u001b[39;49m\u001b[43m,\u001b[49m\u001b[43m \u001b[49m\u001b[43mend_date\u001b[49m\u001b[38;5;241;43m=\u001b[39;49m\u001b[38;5;124;43m\"\u001b[39;49m\u001b[38;5;124;43m20230201\u001b[39;49m\u001b[38;5;124;43m\"\u001b[39;49m\u001b[43m,\u001b[49m\u001b[43m \u001b[49m\u001b[43madjust\u001b[49m\u001b[38;5;241;43m=\u001b[39;49m\u001b[38;5;124;43m\"\u001b[39;49m\u001b[38;5;124;43mhfq\u001b[39;49m\u001b[38;5;124;43m\"\u001b[39;49m\u001b[43m)\u001b[49m\n\u001b[1;32m      4\u001b[0m fund_etf_hist_em_df\n",
      "File \u001b[0;32m/opt/conda/lib/python3.11/site-packages/akshare/fund/fund_etf_em.py:243\u001b[0m, in \u001b[0;36mfund_etf_hist_em\u001b[0;34m(symbol, period, start_date, end_date, adjust)\u001b[0m\n\u001b[1;32m    220\u001b[0m \u001b[38;5;28;01mdef\u001b[39;00m \u001b[38;5;21mfund_etf_hist_em\u001b[39m(\n\u001b[1;32m    221\u001b[0m     symbol: \u001b[38;5;28mstr\u001b[39m \u001b[38;5;241m=\u001b[39m \u001b[38;5;124m\"\u001b[39m\u001b[38;5;124m159707\u001b[39m\u001b[38;5;124m\"\u001b[39m,\n\u001b[1;32m    222\u001b[0m     period: \u001b[38;5;28mstr\u001b[39m \u001b[38;5;241m=\u001b[39m \u001b[38;5;124m\"\u001b[39m\u001b[38;5;124mdaily\u001b[39m\u001b[38;5;124m\"\u001b[39m,\n\u001b[0;32m   (...)\u001b[0m\n\u001b[1;32m    225\u001b[0m     adjust: \u001b[38;5;28mstr\u001b[39m \u001b[38;5;241m=\u001b[39m \u001b[38;5;124m\"\u001b[39m\u001b[38;5;124m\"\u001b[39m,\n\u001b[1;32m    226\u001b[0m ) \u001b[38;5;241m-\u001b[39m\u001b[38;5;241m>\u001b[39m pd\u001b[38;5;241m.\u001b[39mDataFrame:\n\u001b[1;32m    227\u001b[0m \u001b[38;5;250m    \u001b[39m\u001b[38;5;124;03m\"\"\"\u001b[39;00m\n\u001b[1;32m    228\u001b[0m \u001b[38;5;124;03m    东方财富-ETF行情\u001b[39;00m\n\u001b[1;32m    229\u001b[0m \u001b[38;5;124;03m    https://quote.eastmoney.com/sz159707.html\u001b[39;00m\n\u001b[0;32m   (...)\u001b[0m\n\u001b[1;32m    241\u001b[0m \u001b[38;5;124;03m    :rtype: pandas.DataFrame\u001b[39;00m\n\u001b[1;32m    242\u001b[0m \u001b[38;5;124;03m    \"\"\"\u001b[39;00m\n\u001b[0;32m--> 243\u001b[0m     code_id_dict \u001b[38;5;241m=\u001b[39m \u001b[43m_fund_etf_code_id_map_em\u001b[49m\u001b[43m(\u001b[49m\u001b[43m)\u001b[49m\n\u001b[1;32m    244\u001b[0m     adjust_dict \u001b[38;5;241m=\u001b[39m {\u001b[38;5;124m\"\u001b[39m\u001b[38;5;124mqfq\u001b[39m\u001b[38;5;124m\"\u001b[39m: \u001b[38;5;124m\"\u001b[39m\u001b[38;5;124m1\u001b[39m\u001b[38;5;124m\"\u001b[39m, \u001b[38;5;124m\"\u001b[39m\u001b[38;5;124mhfq\u001b[39m\u001b[38;5;124m\"\u001b[39m: \u001b[38;5;124m\"\u001b[39m\u001b[38;5;124m2\u001b[39m\u001b[38;5;124m\"\u001b[39m, \u001b[38;5;124m\"\u001b[39m\u001b[38;5;124m\"\u001b[39m: \u001b[38;5;124m\"\u001b[39m\u001b[38;5;124m0\u001b[39m\u001b[38;5;124m\"\u001b[39m}\n\u001b[1;32m    245\u001b[0m     period_dict \u001b[38;5;241m=\u001b[39m {\u001b[38;5;124m\"\u001b[39m\u001b[38;5;124mdaily\u001b[39m\u001b[38;5;124m\"\u001b[39m: \u001b[38;5;124m\"\u001b[39m\u001b[38;5;124m101\u001b[39m\u001b[38;5;124m\"\u001b[39m, \u001b[38;5;124m\"\u001b[39m\u001b[38;5;124mweekly\u001b[39m\u001b[38;5;124m\"\u001b[39m: \u001b[38;5;124m\"\u001b[39m\u001b[38;5;124m102\u001b[39m\u001b[38;5;124m\"\u001b[39m, \u001b[38;5;124m\"\u001b[39m\u001b[38;5;124mmonthly\u001b[39m\u001b[38;5;124m\"\u001b[39m: \u001b[38;5;124m\"\u001b[39m\u001b[38;5;124m103\u001b[39m\u001b[38;5;124m\"\u001b[39m}\n",
      "File \u001b[0;32m/opt/conda/lib/python3.11/site-packages/akshare/fund/fund_etf_em.py:39\u001b[0m, in \u001b[0;36m_fund_etf_code_id_map_em\u001b[0;34m()\u001b[0m\n\u001b[1;32m     25\u001b[0m url \u001b[38;5;241m=\u001b[39m \u001b[38;5;124m\"\u001b[39m\u001b[38;5;124mhttps://88.push2.eastmoney.com/api/qt/clist/get\u001b[39m\u001b[38;5;124m\"\u001b[39m\n\u001b[1;32m     26\u001b[0m params \u001b[38;5;241m=\u001b[39m {\n\u001b[1;32m     27\u001b[0m     \u001b[38;5;124m\"\u001b[39m\u001b[38;5;124mpn\u001b[39m\u001b[38;5;124m\"\u001b[39m: \u001b[38;5;124m\"\u001b[39m\u001b[38;5;124m1\u001b[39m\u001b[38;5;124m\"\u001b[39m,\n\u001b[1;32m     28\u001b[0m     \u001b[38;5;124m\"\u001b[39m\u001b[38;5;124mpz\u001b[39m\u001b[38;5;124m\"\u001b[39m: \u001b[38;5;124m\"\u001b[39m\u001b[38;5;124m100\u001b[39m\u001b[38;5;124m\"\u001b[39m,\n\u001b[0;32m   (...)\u001b[0m\n\u001b[1;32m     37\u001b[0m     \u001b[38;5;124m\"\u001b[39m\u001b[38;5;124mfields\u001b[39m\u001b[38;5;124m\"\u001b[39m: \u001b[38;5;124m\"\u001b[39m\u001b[38;5;124mf3,f12,f13\u001b[39m\u001b[38;5;124m\"\u001b[39m,\n\u001b[1;32m     38\u001b[0m }\n\u001b[0;32m---> 39\u001b[0m temp_df \u001b[38;5;241m=\u001b[39m \u001b[43mfetch_paginated_data\u001b[49m\u001b[43m(\u001b[49m\u001b[43murl\u001b[49m\u001b[43m,\u001b[49m\u001b[43m \u001b[49m\u001b[43mparams\u001b[49m\u001b[43m)\u001b[49m\n\u001b[1;32m     40\u001b[0m temp_dict \u001b[38;5;241m=\u001b[39m \u001b[38;5;28mdict\u001b[39m(\u001b[38;5;28mzip\u001b[39m(temp_df[\u001b[38;5;124m\"\u001b[39m\u001b[38;5;124mf12\u001b[39m\u001b[38;5;124m\"\u001b[39m], temp_df[\u001b[38;5;124m\"\u001b[39m\u001b[38;5;124mf13\u001b[39m\u001b[38;5;124m\"\u001b[39m]))\n\u001b[1;32m     41\u001b[0m \u001b[38;5;28;01mreturn\u001b[39;00m temp_dict\n",
      "File \u001b[0;32m/opt/conda/lib/python3.11/site-packages/akshare/utils/func.py:44\u001b[0m, in \u001b[0;36mfetch_paginated_data\u001b[0;34m(url, base_params, timeout)\u001b[0m\n\u001b[1;32m     42\u001b[0m tqdm \u001b[38;5;241m=\u001b[39m get_tqdm()\n\u001b[1;32m     43\u001b[0m \u001b[38;5;66;03m# 获取剩余页面数据\u001b[39;00m\n\u001b[0;32m---> 44\u001b[0m \u001b[38;5;28;01mfor\u001b[39;00m page \u001b[38;5;129;01min\u001b[39;00m \u001b[43mtqdm\u001b[49m\u001b[43m(\u001b[49m\u001b[38;5;28;43mrange\u001b[39;49m\u001b[43m(\u001b[49m\u001b[38;5;241;43m2\u001b[39;49m\u001b[43m,\u001b[49m\u001b[43m \u001b[49m\u001b[43mtotal_page\u001b[49m\u001b[43m \u001b[49m\u001b[38;5;241;43m+\u001b[39;49m\u001b[43m \u001b[49m\u001b[38;5;241;43m1\u001b[39;49m\u001b[43m)\u001b[49m\u001b[43m,\u001b[49m\u001b[43m \u001b[49m\u001b[43mleave\u001b[49m\u001b[38;5;241;43m=\u001b[39;49m\u001b[38;5;28;43;01mFalse\u001b[39;49;00m\u001b[43m)\u001b[49m:\n\u001b[1;32m     45\u001b[0m     params\u001b[38;5;241m.\u001b[39mupdate({\u001b[38;5;124m\"\u001b[39m\u001b[38;5;124mpn\u001b[39m\u001b[38;5;124m\"\u001b[39m: page})\n\u001b[1;32m     46\u001b[0m     r \u001b[38;5;241m=\u001b[39m requests\u001b[38;5;241m.\u001b[39mget(url, params\u001b[38;5;241m=\u001b[39mparams, timeout\u001b[38;5;241m=\u001b[39mtimeout)\n",
      "File \u001b[0;32m/opt/conda/lib/python3.11/site-packages/tqdm/notebook.py:234\u001b[0m, in \u001b[0;36mtqdm_notebook.__init__\u001b[0;34m(self, *args, **kwargs)\u001b[0m\n\u001b[1;32m    232\u001b[0m unit_scale \u001b[38;5;241m=\u001b[39m \u001b[38;5;241m1\u001b[39m \u001b[38;5;28;01mif\u001b[39;00m \u001b[38;5;28mself\u001b[39m\u001b[38;5;241m.\u001b[39munit_scale \u001b[38;5;129;01mis\u001b[39;00m \u001b[38;5;28;01mTrue\u001b[39;00m \u001b[38;5;28;01melse\u001b[39;00m \u001b[38;5;28mself\u001b[39m\u001b[38;5;241m.\u001b[39munit_scale \u001b[38;5;129;01mor\u001b[39;00m \u001b[38;5;241m1\u001b[39m\n\u001b[1;32m    233\u001b[0m total \u001b[38;5;241m=\u001b[39m \u001b[38;5;28mself\u001b[39m\u001b[38;5;241m.\u001b[39mtotal \u001b[38;5;241m*\u001b[39m unit_scale \u001b[38;5;28;01mif\u001b[39;00m \u001b[38;5;28mself\u001b[39m\u001b[38;5;241m.\u001b[39mtotal \u001b[38;5;28;01melse\u001b[39;00m \u001b[38;5;28mself\u001b[39m\u001b[38;5;241m.\u001b[39mtotal\n\u001b[0;32m--> 234\u001b[0m \u001b[38;5;28mself\u001b[39m\u001b[38;5;241m.\u001b[39mcontainer \u001b[38;5;241m=\u001b[39m \u001b[38;5;28;43mself\u001b[39;49m\u001b[38;5;241;43m.\u001b[39;49m\u001b[43mstatus_printer\u001b[49m\u001b[43m(\u001b[49m\u001b[38;5;28;43mself\u001b[39;49m\u001b[38;5;241;43m.\u001b[39;49m\u001b[43mfp\u001b[49m\u001b[43m,\u001b[49m\u001b[43m \u001b[49m\u001b[43mtotal\u001b[49m\u001b[43m,\u001b[49m\u001b[43m \u001b[49m\u001b[38;5;28;43mself\u001b[39;49m\u001b[38;5;241;43m.\u001b[39;49m\u001b[43mdesc\u001b[49m\u001b[43m,\u001b[49m\u001b[43m \u001b[49m\u001b[38;5;28;43mself\u001b[39;49m\u001b[38;5;241;43m.\u001b[39;49m\u001b[43mncols\u001b[49m\u001b[43m)\u001b[49m\n\u001b[1;32m    235\u001b[0m \u001b[38;5;28mself\u001b[39m\u001b[38;5;241m.\u001b[39mcontainer\u001b[38;5;241m.\u001b[39mpbar \u001b[38;5;241m=\u001b[39m proxy(\u001b[38;5;28mself\u001b[39m)\n\u001b[1;32m    236\u001b[0m \u001b[38;5;28mself\u001b[39m\u001b[38;5;241m.\u001b[39mdisplayed \u001b[38;5;241m=\u001b[39m \u001b[38;5;28;01mFalse\u001b[39;00m\n",
      "File \u001b[0;32m/opt/conda/lib/python3.11/site-packages/tqdm/notebook.py:108\u001b[0m, in \u001b[0;36mtqdm_notebook.status_printer\u001b[0;34m(_, total, desc, ncols)\u001b[0m\n\u001b[1;32m     99\u001b[0m \u001b[38;5;66;03m# Fallback to text bar if there's no total\u001b[39;00m\n\u001b[1;32m    100\u001b[0m \u001b[38;5;66;03m# DEPRECATED: replaced with an 'info' style bar\u001b[39;00m\n\u001b[1;32m    101\u001b[0m \u001b[38;5;66;03m# if not total:\u001b[39;00m\n\u001b[0;32m   (...)\u001b[0m\n\u001b[1;32m    105\u001b[0m \n\u001b[1;32m    106\u001b[0m \u001b[38;5;66;03m# Prepare IPython progress bar\u001b[39;00m\n\u001b[1;32m    107\u001b[0m \u001b[38;5;28;01mif\u001b[39;00m IProgress \u001b[38;5;129;01mis\u001b[39;00m \u001b[38;5;28;01mNone\u001b[39;00m:  \u001b[38;5;66;03m# #187 #451 #558 #872\u001b[39;00m\n\u001b[0;32m--> 108\u001b[0m     \u001b[38;5;28;01mraise\u001b[39;00m \u001b[38;5;167;01mImportError\u001b[39;00m(WARN_NOIPYW)\n\u001b[1;32m    109\u001b[0m \u001b[38;5;28;01mif\u001b[39;00m total:\n\u001b[1;32m    110\u001b[0m     pbar \u001b[38;5;241m=\u001b[39m IProgress(\u001b[38;5;28mmin\u001b[39m\u001b[38;5;241m=\u001b[39m\u001b[38;5;241m0\u001b[39m, \u001b[38;5;28mmax\u001b[39m\u001b[38;5;241m=\u001b[39mtotal)\n",
      "\u001b[0;31mImportError\u001b[0m: IProgress not found. Please update jupyter and ipywidgets. See https://ipywidgets.readthedocs.io/en/stable/user_install.html"
     ]
    }
   ],
   "source": [
    "import akshare as ak\n",
    "\n",
    "fund_etf_hist_em_df = ak.fund_etf_hist_em(symbol=\"513500\", start_date=\"20220101\", end_date=\"20230201\", adjust=\"hfq\")\n",
    "fund_etf_hist_em_df"
   ]
  },
  {
   "cell_type": "code",
   "execution_count": null,
   "id": "ef7181bc-bdea-4f09-b79d-fe1c50a99751",
   "metadata": {},
   "outputs": [],
   "source": []
  }
 ],
 "metadata": {
  "kernelspec": {
   "display_name": "Python 3 (ipykernel)",
   "language": "python",
   "name": "python3"
  },
  "language_info": {
   "codemirror_mode": {
    "name": "ipython",
    "version": 3
   },
   "file_extension": ".py",
   "mimetype": "text/x-python",
   "name": "python",
   "nbconvert_exporter": "python",
   "pygments_lexer": "ipython3",
   "version": "3.11.10"
  }
 },
 "nbformat": 4,
 "nbformat_minor": 5
}
