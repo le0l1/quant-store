{
 "cells": [
  {
   "cell_type": "code",
   "execution_count": 3,
   "id": "5178730f-0d3b-4233-a4a9-ae41bf943627",
   "metadata": {},
   "outputs": [
    {
     "name": "stdout",
     "output_type": "stream",
     "text": [
      "         代码    名称       现价    正股代码  正股名称      规模   剩余规模       转股起始日  \\\n",
      "0    123141  Z丰转债  139.605  300283  温州宏丰   3.213  0.532  2022-09-21   \n",
      "1    123145  药石转债  139.300  300725  药石科技  11.500  6.614  2022-10-26   \n",
      "2    123162  东杰转债  283.336  300486  东杰智能   5.700  1.728  2023-04-20   \n",
      "3    123130  设研转债  124.427  300732   设研院   3.760  3.635  2022-05-17   \n",
      "4    123120  隆华转债  143.297  300263  隆华科技   7.989  0.918  2022-02-07   \n",
      "..      ...   ...      ...     ...   ...     ...    ...         ...   \n",
      "447  127037  银轮转债  445.001  002126  银轮股份   7.000  5.056  2021-12-13   \n",
      "448  110077  洪城转债  213.504  600461  洪城环境  18.000  6.685  2021-05-26   \n",
      "449  110060  天路转债  415.128  600326  西藏天路  10.870  1.202  2020-05-06   \n",
      "450  123034  通光转债  206.792  300265  通光线缆   2.970  0.771  2020-05-08   \n",
      "451  113030  东风转债  162.799  601515  东峰集团   2.953  1.907  2020-06-30   \n",
      "\n",
      "          最后交易日         到期日    转股价  强赎触发比  强赎触发价    正股价     强赎价       强赎天计数  \\\n",
      "0    2025-08-25  2028-03-15   5.35    130   6.96   7.54  100.92  27/15 | 30   \n",
      "1    2025-09-12  2028-04-20  33.61    130  43.69  47.02  100.62  22/15 | 30   \n",
      "2    2025-09-22  2028-10-14   8.05    130  10.46  23.03  100.95  15/15 | 30   \n",
      "3    2025-09-08  2027-11-11   8.05    130  10.46  10.17  101.25  15/15 | 30   \n",
      "4    2025-08-26  2027-07-30   6.10    130   7.93   8.79  100.22  26/15 | 30   \n",
      "..          ...         ...    ...    ...    ...    ...     ...         ...   \n",
      "447         NaT  2027-06-07  10.39    130  13.51  39.56     NaN   0/15 | 30   \n",
      "448         NaT  2026-11-20   4.88    130   6.34   9.24     NaN   0/15 | 30   \n",
      "449         NaT  2025-10-28   4.17    130   5.42  15.41     NaN   0/15 | 30   \n",
      "450         NaT  2025-11-04   7.88    130  10.24  10.84     NaN   0/15 | 30   \n",
      "451         NaT  2025-12-24   3.10    130   4.03   4.77     NaN   0/15 | 30   \n",
      "\n",
      "                                                  强赎条款   强赎状态  \n",
      "0    在转股期内，如果公司股票在任何连续三十个交易日中至少十五个交易日的收盘价格不低于当期转股价格...  已公告强赎  \n",
      "1    如果公司 A 股股票在任意连续三十个交易日中至少十五个交易日的收盘价格不低于当期转股价格的 ...  已公告强赎  \n",
      "2    如果公司股票在任意连续三十个交易日中至少有十五个交易日的收盘价格不低于当期转股价格的 130...  已公告强赎  \n",
      "3    如果公司股票在任意连续三十个交易日中至少有十五个交易日的收盘价格不低于当期转股价格的 130...  已公告强赎  \n",
      "4    如果公司股票在任意连续三十个交易日中至少有十五个 交易日的收盘价格不低于当期转股价格的130...  已公告强赎  \n",
      "..                                                 ...    ...  \n",
      "447  如果公司股票在任何连续三十个交易日中至少十五个交易日 的收盘价格不低于当期转股价格的 130...  公告不强赎  \n",
      "448  如果公司股票在任何连续三十个交易日中至少十五个交易日的收盘价格不低于当期转股价格的 130%...  公告不强赎  \n",
      "449  在本次发行的可转债转股期内，如果公司 A 股股票连续 30 个交易日中 至少有 15 个交易...  公告不强赎  \n",
      "450  如果公司股票任意连续30个交易日中至少有15个交易日的收盘价不低于当期转股价格的130%(含...  公告不强赎  \n",
      "451  如果公司A股股票连续三十个交易日中至少有十五个交易日的收盘价格不低于当期转股价格的130%(...  公告不强赎  \n",
      "\n",
      "[452 rows x 18 columns]\n"
     ]
    }
   ],
   "source": [
    "import akshare as ak\n",
    "\n",
    "bond_cb_redeem_jsl_df = ak.bond_cb_redeem_jsl()"
   ]
  },
  {
   "cell_type": "code",
   "execution_count": 11,
   "id": "06beef91-ffed-4f79-bfdb-c5a61c3325ef",
   "metadata": {},
   "outputs": [
    {
     "data": {
      "text/html": [
       "<div>\n",
       "<style scoped>\n",
       "    .dataframe tbody tr th:only-of-type {\n",
       "        vertical-align: middle;\n",
       "    }\n",
       "\n",
       "    .dataframe tbody tr th {\n",
       "        vertical-align: top;\n",
       "    }\n",
       "\n",
       "    .dataframe thead th {\n",
       "        text-align: right;\n",
       "    }\n",
       "</style>\n",
       "<table border=\"1\" class=\"dataframe\">\n",
       "  <thead>\n",
       "    <tr style=\"text-align: right;\">\n",
       "      <th></th>\n",
       "      <th>bond_id</th>\n",
       "      <th>bond_nm</th>\n",
       "      <th>bond_py</th>\n",
       "      <th>price</th>\n",
       "      <th>increase_rt</th>\n",
       "      <th>stock_id</th>\n",
       "      <th>stock_nm</th>\n",
       "      <th>stock_py</th>\n",
       "      <th>sprice</th>\n",
       "      <th>sincrease_rt</th>\n",
       "      <th>...</th>\n",
       "      <th>after_next_put_dt</th>\n",
       "      <th>icons</th>\n",
       "      <th>is_min_price</th>\n",
       "      <th>blocked</th>\n",
       "      <th>putting</th>\n",
       "      <th>force_redeem_price_tip</th>\n",
       "      <th>notes</th>\n",
       "      <th>update_date</th>\n",
       "      <th>year_month</th>\n",
       "      <th>rank_indicator</th>\n",
       "    </tr>\n",
       "  </thead>\n",
       "  <tbody>\n",
       "  </tbody>\n",
       "</table>\n",
       "<p>0 rows × 65 columns</p>\n",
       "</div>"
      ],
      "text/plain": [
       "Empty DataFrame\n",
       "Columns: [bond_id, bond_nm, bond_py, price, increase_rt, stock_id, stock_nm, stock_py, sprice, sincrease_rt, pb, convert_price, convert_value, convert_dt, premium_rt, dblow, sw_cd, market_cd, btype, list_dt, t_flag, owned, hold, bond_value, rating_cd, option_value, put_convert_price, force_redeem_price, convert_amt_ratio, fund_rt, maturity_dt, year_left, curr_iss_amt, volume, svolume, turnover_rt, ytm_rt, put_ytm_rt, noted, last_time, qstatus, sqflag, pb_flag, adj_cnt, adj_scnt, convert_price_valid, convert_price_tips, convert_cd_tip, ref_yield_info, adjusted, orig_iss_amt, price_tips, redeem_dt, real_force_redeem_price, option_tip, after_next_put_dt, icons, is_min_price, blocked, putting, force_redeem_price_tip, notes, update_date, year_month, rank_indicator]\n",
       "Index: []\n",
       "\n",
       "[0 rows x 65 columns]"
      ]
     },
     "execution_count": 11,
     "metadata": {},
     "output_type": "execute_result"
    }
   ],
   "source": [
    "import backtrader as bt\n",
    "import pandas as pd\n",
    "import duckdb\n",
    "\n",
    "\n",
    "exclude_bonds = tuple(bond_cb_redeem_jsl_df['代码'])\n",
    "\n",
    "con = duckdb.connect(database=':memory:', read_only=False) \n",
    "path = '../dataset/data/convertible_bonds/**/data.parquet'\n",
    "date = '2025-08-25'\n",
    "\n",
    "query = f\"\"\"\n",
    "        SELECT \n",
    "            *,\n",
    "            dblow + curr_iss_amt AS rank_indicator\n",
    "        FROM  read_parquet('{path}')\n",
    "        WHERE\n",
    "            NOT bond_nm LIKE '%退%'\n",
    "            AND NOT price_tips LIKE '%待上市%'\n",
    "            AND price < 150\n",
    "            AND premium_rt < 8\n",
    "            AND rating_cd LIKE '%A%'\n",
    "            AND qstatus = '00'\n",
    "            AND update_date = '{date}'\n",
    "            AND bond_id not in {exclude_bonds}\n",
    "        ORDER BY rank_indicator ASC\n",
    "        LIMIT 10\n",
    "\"\"\"\n",
    "\n",
    "df_all = con.execute(query).df()\n",
    "con.close()\n",
    "\n",
    "\n",
    "df_all"
   ]
  },
  {
   "cell_type": "code",
   "execution_count": null,
   "id": "183479bf-50f1-473c-bd10-59a9b2d10354",
   "metadata": {},
   "outputs": [],
   "source": []
  },
  {
   "cell_type": "code",
   "execution_count": null,
   "id": "270828b0-e0bf-4239-8bed-f2431334fe73",
   "metadata": {},
   "outputs": [],
   "source": []
  }
 ],
 "metadata": {
  "kernelspec": {
   "display_name": "project",
   "language": "python",
   "name": "project"
  },
  "language_info": {
   "codemirror_mode": {
    "name": "ipython",
    "version": 3
   },
   "file_extension": ".py",
   "mimetype": "text/x-python",
   "name": "python",
   "nbconvert_exporter": "python",
   "pygments_lexer": "ipython3",
   "version": "3.12.10"
  }
 },
 "nbformat": 4,
 "nbformat_minor": 5
}
