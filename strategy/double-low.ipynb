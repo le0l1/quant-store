{
 "cells": [
  {
   "cell_type": "code",
   "execution_count": 6,
   "id": "5178730f-0d3b-4233-a4a9-ae41bf943627",
   "metadata": {},
   "outputs": [
    {
     "name": "stderr",
     "output_type": "stream",
     "text": [
      "/home/jovyan/data/.venv/lib/python3.11/site-packages/py_mini_racer/py_mini_racer.py:15: UserWarning: pkg_resources is deprecated as an API. See https://setuptools.pypa.io/en/latest/pkg_resources.html. The pkg_resources package is slated for removal as early as 2025-11-30. Refrain from using this package or pin to Setuptools<81.\n",
      "  import pkg_resources\n"
     ]
    }
   ],
   "source": [
    "import akshare as ak\n",
    "\n",
    "bond_cb_redeem_jsl_df = ak.bond_cb_redeem_jsl()"
   ]
  },
  {
   "cell_type": "code",
   "execution_count": 11,
   "id": "06beef91-ffed-4f79-bfdb-c5a61c3325ef",
   "metadata": {},
   "outputs": [
    {
     "data": {
      "text/html": [
       "<div>\n",
       "<style scoped>\n",
       "    .dataframe tbody tr th:only-of-type {\n",
       "        vertical-align: middle;\n",
       "    }\n",
       "\n",
       "    .dataframe tbody tr th {\n",
       "        vertical-align: top;\n",
       "    }\n",
       "\n",
       "    .dataframe thead th {\n",
       "        text-align: right;\n",
       "    }\n",
       "</style>\n",
       "<table border=\"1\" class=\"dataframe\">\n",
       "  <thead>\n",
       "    <tr style=\"text-align: right;\">\n",
       "      <th></th>\n",
       "      <th>bond_id</th>\n",
       "      <th>bond_nm</th>\n",
       "      <th>bond_py</th>\n",
       "      <th>price</th>\n",
       "      <th>increase_rt</th>\n",
       "      <th>stock_id</th>\n",
       "      <th>stock_nm</th>\n",
       "      <th>stock_py</th>\n",
       "      <th>sprice</th>\n",
       "      <th>sincrease_rt</th>\n",
       "      <th>...</th>\n",
       "      <th>after_next_put_dt</th>\n",
       "      <th>icons</th>\n",
       "      <th>is_min_price</th>\n",
       "      <th>blocked</th>\n",
       "      <th>putting</th>\n",
       "      <th>force_redeem_price_tip</th>\n",
       "      <th>notes</th>\n",
       "      <th>update_date</th>\n",
       "      <th>year_month</th>\n",
       "      <th>rank_indicator</th>\n",
       "    </tr>\n",
       "  </thead>\n",
       "  <tbody>\n",
       "  </tbody>\n",
       "</table>\n",
       "<p>0 rows × 65 columns</p>\n",
       "</div>"
      ],
      "text/plain": [
       "Empty DataFrame\n",
       "Columns: [bond_id, bond_nm, bond_py, price, increase_rt, stock_id, stock_nm, stock_py, sprice, sincrease_rt, pb, convert_price, convert_value, convert_dt, premium_rt, dblow, sw_cd, market_cd, btype, list_dt, t_flag, owned, hold, bond_value, rating_cd, option_value, put_convert_price, force_redeem_price, convert_amt_ratio, fund_rt, maturity_dt, year_left, curr_iss_amt, volume, svolume, turnover_rt, ytm_rt, put_ytm_rt, noted, last_time, qstatus, sqflag, pb_flag, adj_cnt, adj_scnt, convert_price_valid, convert_price_tips, convert_cd_tip, ref_yield_info, adjusted, orig_iss_amt, price_tips, redeem_dt, real_force_redeem_price, option_tip, after_next_put_dt, icons, is_min_price, blocked, putting, force_redeem_price_tip, notes, update_date, year_month, rank_indicator]\n",
       "Index: []\n",
       "\n",
       "[0 rows x 65 columns]"
      ]
     },
     "execution_count": 11,
     "metadata": {},
     "output_type": "execute_result"
    }
   ],
   "source": [
    "import backtrader as bt\n",
    "import pandas as pd\n",
    "import duckdb\n",
    "\n",
    "\n",
    "exclude_bonds = tuple(bond_cb_redeem_jsl_df['代码'])\n",
    "\n",
    "con = duckdb.connect(database=':memory:', read_only=False) \n",
    "path = '../dataset/data/convertible_bonds/**/data.parquet'\n",
    "date = '2025-08-28'\n",
    "\n",
    "query = f\"\"\"\n",
    "        SELECT \n",
    "            *,\n",
    "            dblow + curr_iss_amt AS rank_indicator\n",
    "        FROM  read_parquet('{path}')\n",
    "        WHERE\n",
    "            NOT bond_nm LIKE '%退%'\n",
    "            AND NOT price_tips LIKE '%待上市%'\n",
    "            AND price < 150\n",
    "            AND premium_rt < 8\n",
    "            AND rating_cd LIKE '%A%'\n",
    "            AND qstatus = '00'\n",
    "            AND update_date = '{date}'\n",
    "            AND bond_id not in {exclude_bonds}\n",
    "        ORDER BY rank_indicator ASC\n",
    "        LIMIT 10\n",
    "\"\"\"\n",
    "\n",
    "df_all = con.execute(query).df()\n",
    "con.close()\n",
    "\n",
    "\n",
    "df_all"
   ]
  },
  {
   "cell_type": "code",
   "execution_count": null,
   "id": "183479bf-50f1-473c-bd10-59a9b2d10354",
   "metadata": {},
   "outputs": [],
   "source": []
  },
  {
   "cell_type": "code",
   "execution_count": null,
   "id": "270828b0-e0bf-4239-8bed-f2431334fe73",
   "metadata": {},
   "outputs": [],
   "source": []
  }
 ],
 "metadata": {
  "kernelspec": {
   "display_name": "uv-pro",
   "language": "python",
   "name": "uv-pro"
  },
  "language_info": {
   "codemirror_mode": {
    "name": "ipython",
    "version": 3
   },
   "file_extension": ".py",
   "mimetype": "text/x-python",
   "name": "python",
   "nbconvert_exporter": "python",
   "pygments_lexer": "ipython3",
   "version": "3.11.10"
  }
 },
 "nbformat": 4,
 "nbformat_minor": 5
}
