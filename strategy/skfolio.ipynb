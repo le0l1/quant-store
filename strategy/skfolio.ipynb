{
 "cells": [
  {
   "cell_type": "code",
   "execution_count": 1,
   "id": "c42c16b0-ac51-4903-8d53-b5cf1eb12b11",
   "metadata": {
    "editable": true,
    "slideshow": {
     "slide_type": ""
    },
    "tags": []
   },
   "outputs": [
    {
     "name": "stderr",
     "output_type": "stream",
     "text": [
      "/home/jovyan/data/.venv/lib/python3.11/site-packages/py_mini_racer/py_mini_racer.py:15: UserWarning: pkg_resources is deprecated as an API. See https://setuptools.pypa.io/en/latest/pkg_resources.html. The pkg_resources package is slated for removal as early as 2025-11-30. Refrain from using this package or pin to Setuptools<81.\n",
      "  import pkg_resources\n"
     ]
    },
    {
     "data": {
      "application/vnd.jupyter.widget-view+json": {
       "model_id": "",
       "version_major": 2,
       "version_minor": 0
      },
      "text/plain": [
       "  0%|          | 0/12 [00:00<?, ?it/s]"
      ]
     },
     "metadata": {},
     "output_type": "display_data"
    }
   ],
   "source": [
    "import pandas as pd\n",
    "import akshare as ak\n",
    "\n",
    "etfs = ['561300', '159726', '515100', '513500', '161119', '518880', '164824', '159985', '513330', '513100', '513030', '513520']\n",
    "\n",
    "df = pd.DataFrame()\n",
    "\n",
    "end_date = '20250731'\n",
    "\n",
    "for i in etfs:\n",
    "    etf_df = ak.fund_etf_hist_em(symbol=i, period=\"daily\", start_date=\"20220701\", end_date=end_date, adjust=\"hfq\")\n",
    "    etf_df['close'] = etf_df['收盘'].astype(float)\n",
    "    etf_df['date'] = etf_df['日期']\n",
    "    etf_df['symbol'] = i\n",
    "    etf_df = etf_df.ffill()\n",
    "    etf_df = etf_df.infer_objects(copy=False)\n",
    "    df = pd.concat([df, etf_df])"
   ]
  },
  {
   "cell_type": "code",
   "execution_count": 4,
   "id": "bc048501-7f39-4f1a-9c64-161516ca54ca",
   "metadata": {},
   "outputs": [
    {
     "name": "stdout",
     "output_type": "stream",
     "text": [
      "        date  close  symbol\n",
      "0 2024-08-15  0.920  159726\n",
      "1 2024-08-16  0.932  159726\n",
      "2 2024-08-19  0.932  159726\n",
      "3 2024-08-20  0.920  159726\n",
      "4 2024-08-21  0.915  159726\n"
     ]
    },
    {
     "name": "stderr",
     "output_type": "stream",
     "text": [
      "/tmp/ipykernel_54637/1035125006.py:47: FutureWarning: DataFrameGroupBy.apply operated on the grouping columns. This behavior is deprecated, and in a future version of pandas the grouping columns will be excluded from the operation. Either pass `include_groups=False` to exclude the groupings or explicitly select the grouping columns after groupby to silence this warning.\n",
      "  df = df.groupby('symbol', group_keys=False).apply(lambda x: x.ffill())\n"
     ]
    }
   ],
   "source": [
    "import pandas as pd\n",
    "import duckdb\n",
    "\n",
    "# 要查询的 ETF 列表\n",
    "etfs = ['561300', '159726', '515100', '513500', '161119', '518880', '164824', '159985', '513330', '513100', '513030', '513520']\n",
    "\n",
    "# 查询的起止日期\n",
    "start_date = '2022-07-01'\n",
    "end_date = '2025-08-13'\n",
    "\n",
    "# 连接到 DuckDB 数据库 (只读模式)\n",
    "path = '../dataset/data/etf_prices/**/data.parquet'\n",
    "con = duckdb.connect(database=':memory:', read_only=False) \n",
    "\n",
    "# 构建 SQL 查询语句\n",
    "# 将 etfs 列表转换为适合 SQL \"IN\" 子句的元组格式\n",
    "symbols_tuple = tuple(etfs)\n",
    "\n",
    "query = f\"\"\"\n",
    "SELECT\n",
    "    date,\n",
    "    close,\n",
    "    symbol\n",
    "FROM read_parquet('{path}')\n",
    "WHERE\n",
    "    symbol IN {symbols_tuple}\n",
    "    AND date BETWEEN '{start_date}' AND '{end_date}'\n",
    "ORDER BY\n",
    "    symbol, date\n",
    "\"\"\"\n",
    "\n",
    "# 执行查询并将结果加载到 pandas DataFrame\n",
    "try:\n",
    "    df = con.execute(query).fetchdf()\n",
    "finally:\n",
    "    # 关闭数据库连接\n",
    "    con.close()\n",
    "\n",
    "# 将 'close' 列转换为浮点数类型\n",
    "df['close'] = df['close'].astype(float)\n",
    "\n",
    "# 将 'date' 列转换为日期时间类型\n",
    "df['date'] = pd.to_datetime(df['date'])\n",
    "\n",
    "# 对每个 symbol 分组后进行前向填充 (ffill)\n",
    "# 这是为了匹配您原始脚本中的逻辑\n",
    "df = df.groupby('symbol', group_keys=False).apply(lambda x: x.ffill())\n",
    "\n",
    "# 重新推断数据类型，以匹配原始脚本\n",
    "df = df.infer_objects(copy=False)\n",
    "\n",
    "# 打印 DataFrame 的前几行以供查阅\n",
    "print(df.head())"
   ]
  },
  {
   "cell_type": "code",
   "execution_count": 5,
   "id": "c50ece65-1592-4435-b915-1513d2c38ed2",
   "metadata": {},
   "outputs": [
    {
     "data": {
      "text/html": [
       "<div>\n",
       "<style scoped>\n",
       "    .dataframe tbody tr th:only-of-type {\n",
       "        vertical-align: middle;\n",
       "    }\n",
       "\n",
       "    .dataframe tbody tr th {\n",
       "        vertical-align: top;\n",
       "    }\n",
       "\n",
       "    .dataframe thead th {\n",
       "        text-align: right;\n",
       "    }\n",
       "</style>\n",
       "<table border=\"1\" class=\"dataframe\">\n",
       "  <thead>\n",
       "    <tr style=\"text-align: right;\">\n",
       "      <th>symbol</th>\n",
       "      <th>159726</th>\n",
       "      <th>159985</th>\n",
       "      <th>161119</th>\n",
       "      <th>164824</th>\n",
       "      <th>513030</th>\n",
       "      <th>513100</th>\n",
       "      <th>513330</th>\n",
       "      <th>513500</th>\n",
       "      <th>513520</th>\n",
       "      <th>515100</th>\n",
       "      <th>518880</th>\n",
       "      <th>561300</th>\n",
       "    </tr>\n",
       "    <tr>\n",
       "      <th>date</th>\n",
       "      <th></th>\n",
       "      <th></th>\n",
       "      <th></th>\n",
       "      <th></th>\n",
       "      <th></th>\n",
       "      <th></th>\n",
       "      <th></th>\n",
       "      <th></th>\n",
       "      <th></th>\n",
       "      <th></th>\n",
       "      <th></th>\n",
       "      <th></th>\n",
       "    </tr>\n",
       "  </thead>\n",
       "  <tbody>\n",
       "    <tr>\n",
       "      <th>2024-08-15</th>\n",
       "      <td>0.920</td>\n",
       "      <td>1.868</td>\n",
       "      <td>1.705</td>\n",
       "      <td>1.603</td>\n",
       "      <td>1.352</td>\n",
       "      <td>7.110</td>\n",
       "      <td>0.339</td>\n",
       "      <td>3.896</td>\n",
       "      <td>1.440</td>\n",
       "      <td>1.758</td>\n",
       "      <td>5.443</td>\n",
       "      <td>0.708</td>\n",
       "    </tr>\n",
       "    <tr>\n",
       "      <th>2024-08-16</th>\n",
       "      <td>0.932</td>\n",
       "      <td>1.859</td>\n",
       "      <td>1.705</td>\n",
       "      <td>1.634</td>\n",
       "      <td>1.373</td>\n",
       "      <td>7.345</td>\n",
       "      <td>0.348</td>\n",
       "      <td>3.950</td>\n",
       "      <td>1.495</td>\n",
       "      <td>1.754</td>\n",
       "      <td>5.453</td>\n",
       "      <td>0.710</td>\n",
       "    </tr>\n",
       "    <tr>\n",
       "      <th>2024-08-19</th>\n",
       "      <td>0.932</td>\n",
       "      <td>1.848</td>\n",
       "      <td>1.705</td>\n",
       "      <td>1.625</td>\n",
       "      <td>1.373</td>\n",
       "      <td>7.210</td>\n",
       "      <td>0.352</td>\n",
       "      <td>3.884</td>\n",
       "      <td>1.463</td>\n",
       "      <td>1.765</td>\n",
       "      <td>5.513</td>\n",
       "      <td>0.713</td>\n",
       "    </tr>\n",
       "    <tr>\n",
       "      <th>2024-08-20</th>\n",
       "      <td>0.920</td>\n",
       "      <td>1.864</td>\n",
       "      <td>1.705</td>\n",
       "      <td>1.660</td>\n",
       "      <td>1.396</td>\n",
       "      <td>7.340</td>\n",
       "      <td>0.350</td>\n",
       "      <td>3.932</td>\n",
       "      <td>1.497</td>\n",
       "      <td>1.753</td>\n",
       "      <td>5.513</td>\n",
       "      <td>0.710</td>\n",
       "    </tr>\n",
       "    <tr>\n",
       "      <th>2024-08-21</th>\n",
       "      <td>0.915</td>\n",
       "      <td>1.877</td>\n",
       "      <td>1.705</td>\n",
       "      <td>1.664</td>\n",
       "      <td>1.390</td>\n",
       "      <td>7.345</td>\n",
       "      <td>0.342</td>\n",
       "      <td>3.934</td>\n",
       "      <td>1.498</td>\n",
       "      <td>1.743</td>\n",
       "      <td>5.537</td>\n",
       "      <td>0.706</td>\n",
       "    </tr>\n",
       "    <tr>\n",
       "      <th>...</th>\n",
       "      <td>...</td>\n",
       "      <td>...</td>\n",
       "      <td>...</td>\n",
       "      <td>...</td>\n",
       "      <td>...</td>\n",
       "      <td>...</td>\n",
       "      <td>...</td>\n",
       "      <td>...</td>\n",
       "      <td>...</td>\n",
       "      <td>...</td>\n",
       "      <td>...</td>\n",
       "      <td>...</td>\n",
       "    </tr>\n",
       "    <tr>\n",
       "      <th>2025-08-07</th>\n",
       "      <td>1.298</td>\n",
       "      <td>1.975</td>\n",
       "      <td>1.762</td>\n",
       "      <td>1.471</td>\n",
       "      <td>1.867</td>\n",
       "      <td>8.420</td>\n",
       "      <td>0.532</td>\n",
       "      <td>4.348</td>\n",
       "      <td>1.547</td>\n",
       "      <td>1.978</td>\n",
       "      <td>7.484</td>\n",
       "      <td>0.882</td>\n",
       "    </tr>\n",
       "    <tr>\n",
       "      <th>2025-08-08</th>\n",
       "      <td>1.307</td>\n",
       "      <td>1.984</td>\n",
       "      <td>1.762</td>\n",
       "      <td>1.474</td>\n",
       "      <td>1.881</td>\n",
       "      <td>8.455</td>\n",
       "      <td>0.524</td>\n",
       "      <td>4.348</td>\n",
       "      <td>1.574</td>\n",
       "      <td>1.981</td>\n",
       "      <td>7.508</td>\n",
       "      <td>0.882</td>\n",
       "    </tr>\n",
       "    <tr>\n",
       "      <th>2025-08-11</th>\n",
       "      <td>1.300</td>\n",
       "      <td>1.969</td>\n",
       "      <td>1.761</td>\n",
       "      <td>1.474</td>\n",
       "      <td>1.889</td>\n",
       "      <td>8.540</td>\n",
       "      <td>0.526</td>\n",
       "      <td>4.384</td>\n",
       "      <td>1.590</td>\n",
       "      <td>1.979</td>\n",
       "      <td>7.429</td>\n",
       "      <td>0.884</td>\n",
       "    </tr>\n",
       "    <tr>\n",
       "      <th>2025-08-12</th>\n",
       "      <td>1.314</td>\n",
       "      <td>1.984</td>\n",
       "      <td>1.759</td>\n",
       "      <td>1.481</td>\n",
       "      <td>1.875</td>\n",
       "      <td>8.515</td>\n",
       "      <td>0.516</td>\n",
       "      <td>4.374</td>\n",
       "      <td>1.593</td>\n",
       "      <td>1.984</td>\n",
       "      <td>7.399</td>\n",
       "      <td>0.888</td>\n",
       "    </tr>\n",
       "    <tr>\n",
       "      <th>2025-08-13</th>\n",
       "      <td>1.323</td>\n",
       "      <td>2.026</td>\n",
       "      <td>1.758</td>\n",
       "      <td>1.485</td>\n",
       "      <td>1.882</td>\n",
       "      <td>8.605</td>\n",
       "      <td>0.533</td>\n",
       "      <td>4.408</td>\n",
       "      <td>1.623</td>\n",
       "      <td>1.979</td>\n",
       "      <td>7.415</td>\n",
       "      <td>0.897</td>\n",
       "    </tr>\n",
       "  </tbody>\n",
       "</table>\n",
       "<p>240 rows × 12 columns</p>\n",
       "</div>"
      ],
      "text/plain": [
       "symbol      159726  159985  161119  164824  513030  513100  513330  513500  \\\n",
       "date                                                                         \n",
       "2024-08-15   0.920   1.868   1.705   1.603   1.352   7.110   0.339   3.896   \n",
       "2024-08-16   0.932   1.859   1.705   1.634   1.373   7.345   0.348   3.950   \n",
       "2024-08-19   0.932   1.848   1.705   1.625   1.373   7.210   0.352   3.884   \n",
       "2024-08-20   0.920   1.864   1.705   1.660   1.396   7.340   0.350   3.932   \n",
       "2024-08-21   0.915   1.877   1.705   1.664   1.390   7.345   0.342   3.934   \n",
       "...            ...     ...     ...     ...     ...     ...     ...     ...   \n",
       "2025-08-07   1.298   1.975   1.762   1.471   1.867   8.420   0.532   4.348   \n",
       "2025-08-08   1.307   1.984   1.762   1.474   1.881   8.455   0.524   4.348   \n",
       "2025-08-11   1.300   1.969   1.761   1.474   1.889   8.540   0.526   4.384   \n",
       "2025-08-12   1.314   1.984   1.759   1.481   1.875   8.515   0.516   4.374   \n",
       "2025-08-13   1.323   2.026   1.758   1.485   1.882   8.605   0.533   4.408   \n",
       "\n",
       "symbol      513520  515100  518880  561300  \n",
       "date                                        \n",
       "2024-08-15   1.440   1.758   5.443   0.708  \n",
       "2024-08-16   1.495   1.754   5.453   0.710  \n",
       "2024-08-19   1.463   1.765   5.513   0.713  \n",
       "2024-08-20   1.497   1.753   5.513   0.710  \n",
       "2024-08-21   1.498   1.743   5.537   0.706  \n",
       "...            ...     ...     ...     ...  \n",
       "2025-08-07   1.547   1.978   7.484   0.882  \n",
       "2025-08-08   1.574   1.981   7.508   0.882  \n",
       "2025-08-11   1.590   1.979   7.429   0.884  \n",
       "2025-08-12   1.593   1.984   7.399   0.888  \n",
       "2025-08-13   1.623   1.979   7.415   0.897  \n",
       "\n",
       "[240 rows x 12 columns]"
      ]
     },
     "execution_count": 5,
     "metadata": {},
     "output_type": "execute_result"
    }
   ],
   "source": [
    "df_pivot = df.pivot(index='date', columns='symbol', values='close')\n",
    "df_pivot = df_pivot.dropna()\n",
    "df_pivot"
   ]
  },
  {
   "cell_type": "code",
   "execution_count": 6,
   "id": "c667006f-b072-4f56-b0ba-f73c0a7befcb",
   "metadata": {},
   "outputs": [],
   "source": [
    "from sklearn import set_config\n",
    "from sklearn.model_selection import (\n",
    "    GridSearchCV,\n",
    "    KFold,\n",
    "    RandomizedSearchCV,\n",
    "    train_test_split\n",
    ")\n",
    "from sklearn.pipeline import Pipeline\n",
    "from scipy.stats import loguniform\n",
    "import matplotlib.pyplot as plt\n",
    "\n",
    "from skfolio import RatioMeasure, RiskMeasure\n",
    "from skfolio.datasets import load_factors_dataset, load_sp500_dataset\n",
    "from skfolio.distance import KendallDistance\n",
    "from skfolio.model_selection import (\n",
    "    CombinatorialPurgedCV,\n",
    "    WalkForward,\n",
    "    cross_val_predict,\n",
    ")\n",
    "from skfolio.moments import (\n",
    "    DenoiseCovariance,\n",
    "    DetoneCovariance,\n",
    "    EWMu,\n",
    "    GerberCovariance,\n",
    "    ShrunkMu,\n",
    "    ShrunkCovariance\n",
    ")\n",
    "from skfolio.optimization import (\n",
    "    MeanRisk,\n",
    "    NestedClustersOptimization,\n",
    "    ObjectiveFunction,\n",
    "    RiskBudgeting,\n",
    "    HierarchicalRiskParity,\n",
    "    DistributionallyRobustCVaR,\n",
    "    StackingOptimization,\n",
    "    MaximumDiversification,\n",
    "    HierarchicalEqualRiskContribution,\n",
    "    InverseVolatility,\n",
    "    ConvexOptimization\n",
    ")\n",
    "from skfolio.pre_selection import SelectKExtremes\n",
    "from skfolio.preprocessing import prices_to_returns\n",
    "from skfolio.prior import BlackLitterman, EmpiricalPrior, FactorModel\n",
    "from skfolio.uncertainty_set import BootstrapMuUncertaintySet\n",
    "from skfolio.portfolio import MultiPeriodPortfolio\n",
    "from skfolio.cluster import HierarchicalClustering, LinkageMethod"
   ]
  },
  {
   "cell_type": "code",
   "execution_count": 7,
   "id": "3026085d-9b99-4322-954a-32c4c87e6d39",
   "metadata": {
    "editable": true,
    "slideshow": {
     "slide_type": ""
    },
    "tags": []
   },
   "outputs": [
    {
     "name": "stderr",
     "output_type": "stream",
     "text": [
      "/opt/conda/lib/python3.11/multiprocessing/queues.py:122: UserWarning: pkg_resources is deprecated as an API. See https://setuptools.pypa.io/en/latest/pkg_resources.html. The pkg_resources package is slated for removal as early as 2025-11-30. Refrain from using this package or pin to Setuptools<81.\n",
      "  return _ForkingPickler.loads(res)\n",
      "/opt/conda/lib/python3.11/multiprocessing/queues.py:122: UserWarning: pkg_resources is deprecated as an API. See https://setuptools.pypa.io/en/latest/pkg_resources.html. The pkg_resources package is slated for removal as early as 2025-11-30. Refrain from using this package or pin to Setuptools<81.\n",
      "  return _ForkingPickler.loads(res)\n",
      "/opt/conda/lib/python3.11/multiprocessing/queues.py:122: UserWarning: pkg_resources is deprecated as an API. See https://setuptools.pypa.io/en/latest/pkg_resources.html. The pkg_resources package is slated for removal as early as 2025-11-30. Refrain from using this package or pin to Setuptools<81.\n",
      "  return _ForkingPickler.loads(res)\n",
      "/opt/conda/lib/python3.11/multiprocessing/queues.py:122: UserWarning: pkg_resources is deprecated as an API. See https://setuptools.pypa.io/en/latest/pkg_resources.html. The pkg_resources package is slated for removal as early as 2025-11-30. Refrain from using this package or pin to Setuptools<81.\n",
      "  return _ForkingPickler.loads(res)\n"
     ]
    }
   ],
   "source": [
    "prices = df_pivot.copy()\n",
    "prices = prices.sort_values(by='date').dropna()\n",
    "\n",
    "cv = WalkForward(test_size=1, train_size=7, freq=\"MS\")\n",
    "\n",
    "\n",
    "model = HierarchicalRiskParity(\n",
    "    risk_measure=RiskMeasure.CVAR,\n",
    "    prior_estimator=EmpiricalPrior(\n",
    "        covariance_estimator=ShrunkCovariance(shrinkage=0.9)\n",
    "    )\n",
    ")\n",
    "\n",
    "model3 = RiskBudgeting(\n",
    "    risk_measure=RiskMeasure.EVAR,\n",
    "    portfolio_params=dict(name=\"Risk Parity - Covariance Shrinkage\")\n",
    "    # solver='SCS'\n",
    ")\n",
    "\n",
    "estimators = [\n",
    "    (\"model1\", model),\n",
    "    (\"model2\", MaximumDiversification()),\n",
    "    (\"model3\", DistributionallyRobustCVaR(wasserstein_ball_radius=0.01))\n",
    "]\n",
    "\n",
    "model_stacking = StackingOptimization(\n",
    "    estimators=estimators,\n",
    "    final_estimator=model3,\n",
    ")\n",
    "\n",
    "X = prices_to_returns(prices)\n",
    "X.index = pd.to_datetime(X.index)\n",
    "\n",
    "pred_stacking = cross_val_predict(\n",
    "    model_stacking,\n",
    "    X,\n",
    "    cv=cv,\n",
    "    n_jobs=-1,\n",
    "    portfolio_params=dict(name=\"Stacking\")\n",
    ")"
   ]
  },
  {
   "cell_type": "code",
   "execution_count": 8,
   "id": "97a1e490-51eb-4777-b621-4902bb34da8c",
   "metadata": {
    "editable": true,
    "slideshow": {
     "slide_type": ""
    },
    "tags": []
   },
   "outputs": [
    {
     "data": {
      "text/html": [
       "<iframe\n",
       "    scrolling=\"no\"\n",
       "    width=\"100%\"\n",
       "    height=\"545px\"\n",
       "    src=\"iframe_figures/figure_8.html\"\n",
       "    frameborder=\"0\"\n",
       "    allowfullscreen\n",
       "></iframe>\n"
      ]
     },
     "metadata": {},
     "output_type": "display_data"
    }
   ],
   "source": [
    "returns = pred_stacking.plot_cumulative_returns()\n",
    "returns.show(renderer='iframe')"
   ]
  },
  {
   "cell_type": "code",
   "execution_count": 10,
   "id": "7af24cf5-e5e1-4a01-9704-ba5beb0424b1",
   "metadata": {},
   "outputs": [
    {
     "data": {
      "application/vnd.plotly.v1+json": {
       "config": {
        "plotlyServerURL": "https://plot.ly"
       },
       "data": [
        {
         "hovertemplate": "variable=cumulative_returns<br>index=%{x}<br>value=%{y}<extra></extra>",
         "legendgroup": "cumulative_returns",
         "line": {
          "color": "#636efa",
          "dash": "solid"
         },
         "marker": {
          "symbol": "circle"
         },
         "mode": "lines",
         "name": "cumulative_returns",
         "orientation": "v",
         "showlegend": true,
         "type": "scatter",
         "x": [
          "2025-04-01T00:00:00.000000000",
          "2025-04-02T00:00:00.000000000",
          "2025-04-03T00:00:00.000000000",
          "2025-04-07T00:00:00.000000000",
          "2025-04-08T00:00:00.000000000",
          "2025-04-09T00:00:00.000000000",
          "2025-04-10T00:00:00.000000000",
          "2025-04-11T00:00:00.000000000",
          "2025-04-14T00:00:00.000000000",
          "2025-04-15T00:00:00.000000000",
          "2025-04-16T00:00:00.000000000",
          "2025-04-17T00:00:00.000000000",
          "2025-04-18T00:00:00.000000000",
          "2025-04-21T00:00:00.000000000",
          "2025-04-22T00:00:00.000000000",
          "2025-04-23T00:00:00.000000000",
          "2025-04-24T00:00:00.000000000",
          "2025-04-25T00:00:00.000000000",
          "2025-04-28T00:00:00.000000000",
          "2025-04-29T00:00:00.000000000",
          "2025-04-30T00:00:00.000000000",
          "2025-05-06T00:00:00.000000000",
          "2025-05-07T00:00:00.000000000",
          "2025-05-08T00:00:00.000000000",
          "2025-05-09T00:00:00.000000000",
          "2025-05-12T00:00:00.000000000",
          "2025-05-13T00:00:00.000000000",
          "2025-05-14T00:00:00.000000000",
          "2025-05-15T00:00:00.000000000",
          "2025-05-16T00:00:00.000000000",
          "2025-05-19T00:00:00.000000000",
          "2025-05-20T00:00:00.000000000",
          "2025-05-21T00:00:00.000000000",
          "2025-05-22T00:00:00.000000000",
          "2025-05-23T00:00:00.000000000",
          "2025-05-26T00:00:00.000000000",
          "2025-05-27T00:00:00.000000000",
          "2025-05-28T00:00:00.000000000",
          "2025-05-29T00:00:00.000000000",
          "2025-05-30T00:00:00.000000000",
          "2025-06-03T00:00:00.000000000",
          "2025-06-04T00:00:00.000000000",
          "2025-06-05T00:00:00.000000000",
          "2025-06-06T00:00:00.000000000",
          "2025-06-09T00:00:00.000000000",
          "2025-06-10T00:00:00.000000000",
          "2025-06-11T00:00:00.000000000",
          "2025-06-12T00:00:00.000000000",
          "2025-06-13T00:00:00.000000000",
          "2025-06-16T00:00:00.000000000",
          "2025-06-17T00:00:00.000000000",
          "2025-06-18T00:00:00.000000000",
          "2025-06-19T00:00:00.000000000",
          "2025-06-20T00:00:00.000000000",
          "2025-06-23T00:00:00.000000000",
          "2025-06-24T00:00:00.000000000",
          "2025-06-25T00:00:00.000000000",
          "2025-06-26T00:00:00.000000000",
          "2025-06-27T00:00:00.000000000",
          "2025-06-30T00:00:00.000000000",
          "2025-07-01T00:00:00.000000000",
          "2025-07-02T00:00:00.000000000",
          "2025-07-03T00:00:00.000000000",
          "2025-07-04T00:00:00.000000000",
          "2025-07-07T00:00:00.000000000",
          "2025-07-08T00:00:00.000000000",
          "2025-07-09T00:00:00.000000000",
          "2025-07-10T00:00:00.000000000",
          "2025-07-11T00:00:00.000000000",
          "2025-07-14T00:00:00.000000000",
          "2025-07-15T00:00:00.000000000",
          "2025-07-16T00:00:00.000000000",
          "2025-07-17T00:00:00.000000000",
          "2025-07-18T00:00:00.000000000",
          "2025-07-21T00:00:00.000000000",
          "2025-07-22T00:00:00.000000000",
          "2025-07-23T00:00:00.000000000",
          "2025-07-24T00:00:00.000000000",
          "2025-07-25T00:00:00.000000000",
          "2025-07-28T00:00:00.000000000",
          "2025-07-29T00:00:00.000000000",
          "2025-07-30T00:00:00.000000000",
          "2025-07-31T00:00:00.000000000"
         ],
         "xaxis": "x",
         "y": {
          "bdata": "GczAbdE7Yz+s2ARYNkJxP2tsxdeCOHI/GwTuWwIBlr9KU9btgsiGv0bqrQNw14i/5DcaI6Afaz+OA62QosJhP8H9RRLJiX4//ZlAHot/fj++kRBCB3p4P92ztA1FoYE/rMlH1foOgj+RkR2tdrSGP8KJbbq2p40/gYZVZqDaij+M4mwLbiSJP7+KNrEgDYw/tXj2Tg++jD/pNEeOWJSOP/i503bcHI4/gqLlgc/Ekz814gTHq72TP8gTGF76/ZM/evQjzskWlD84CmxN7c2VP//uJYjGjZM/EOb3FZs5lj+izyU/vnmSP2i/RT1nGpQ/VMuyoJBukz9b8keHc/2UP1ipNE/umJg/xAYvNT2Plj9EjELtZLeWP9w28p7SN5Y/IIdrHOnhlT9y2kTMkMqWPzX/Zj+Nmpc/kvXLrLZ5lj9m353bYuuWP0hAo84dC5g/3ip20hXOmD/0ey0gjs2aPwDE8kNLC5w/EFMIXsmRnD86+a/imK6eP+P4xO4w5J4/NmAKjo/onD85RvrXx1SeP8CKwo15P54/ZO1fFNFanT+LUwi8mwucP7jqOzxUGp0/FeIRcrbLnD/nGYtoTDGfPy2VpYGZGJ8/5sSFCXVLnz/sB0L+0uifP4hnAwrLmp8/CVZRv4BpoD9IHWMa+fWgP/FMpaL7R6E/sgmkXbl4oT+CmikYsbWgP2L/xm8aaKE/aUm1gw9XoT+S1sylCr2hP1sXkdbkuqE/UIltVgl+oT+enqjeikqiP3HWtbV+CKI/5vuyPd4Eoz88uf2yQdujPyTygFxHeaQ/QxdtnyhxpD/rOGOPQi2lP+XtYCZ/h6Q/x8dfVjBdoz9k9X48AgajP00JWd3zSaI/Ew1hmzvsoj8ooxIBJWSiPw==",
          "dtype": "f8"
         },
         "yaxis": "y"
        }
       ],
       "layout": {
        "legend": {
         "title": {
          "text": "variable"
         },
         "tracegroupgap": 0
        },
        "margin": {
         "t": 60
        },
        "showlegend": false,
        "template": {
         "data": {
          "bar": [
           {
            "error_x": {
             "color": "#2a3f5f"
            },
            "error_y": {
             "color": "#2a3f5f"
            },
            "marker": {
             "line": {
              "color": "#E5ECF6",
              "width": 0.5
             },
             "pattern": {
              "fillmode": "overlay",
              "size": 10,
              "solidity": 0.2
             }
            },
            "type": "bar"
           }
          ],
          "barpolar": [
           {
            "marker": {
             "line": {
              "color": "#E5ECF6",
              "width": 0.5
             },
             "pattern": {
              "fillmode": "overlay",
              "size": 10,
              "solidity": 0.2
             }
            },
            "type": "barpolar"
           }
          ],
          "carpet": [
           {
            "aaxis": {
             "endlinecolor": "#2a3f5f",
             "gridcolor": "white",
             "linecolor": "white",
             "minorgridcolor": "white",
             "startlinecolor": "#2a3f5f"
            },
            "baxis": {
             "endlinecolor": "#2a3f5f",
             "gridcolor": "white",
             "linecolor": "white",
             "minorgridcolor": "white",
             "startlinecolor": "#2a3f5f"
            },
            "type": "carpet"
           }
          ],
          "choropleth": [
           {
            "colorbar": {
             "outlinewidth": 0,
             "ticks": ""
            },
            "type": "choropleth"
           }
          ],
          "contour": [
           {
            "colorbar": {
             "outlinewidth": 0,
             "ticks": ""
            },
            "colorscale": [
             [
              0,
              "#0d0887"
             ],
             [
              0.1111111111111111,
              "#46039f"
             ],
             [
              0.2222222222222222,
              "#7201a8"
             ],
             [
              0.3333333333333333,
              "#9c179e"
             ],
             [
              0.4444444444444444,
              "#bd3786"
             ],
             [
              0.5555555555555556,
              "#d8576b"
             ],
             [
              0.6666666666666666,
              "#ed7953"
             ],
             [
              0.7777777777777778,
              "#fb9f3a"
             ],
             [
              0.8888888888888888,
              "#fdca26"
             ],
             [
              1,
              "#f0f921"
             ]
            ],
            "type": "contour"
           }
          ],
          "contourcarpet": [
           {
            "colorbar": {
             "outlinewidth": 0,
             "ticks": ""
            },
            "type": "contourcarpet"
           }
          ],
          "heatmap": [
           {
            "colorbar": {
             "outlinewidth": 0,
             "ticks": ""
            },
            "colorscale": [
             [
              0,
              "#0d0887"
             ],
             [
              0.1111111111111111,
              "#46039f"
             ],
             [
              0.2222222222222222,
              "#7201a8"
             ],
             [
              0.3333333333333333,
              "#9c179e"
             ],
             [
              0.4444444444444444,
              "#bd3786"
             ],
             [
              0.5555555555555556,
              "#d8576b"
             ],
             [
              0.6666666666666666,
              "#ed7953"
             ],
             [
              0.7777777777777778,
              "#fb9f3a"
             ],
             [
              0.8888888888888888,
              "#fdca26"
             ],
             [
              1,
              "#f0f921"
             ]
            ],
            "type": "heatmap"
           }
          ],
          "histogram": [
           {
            "marker": {
             "pattern": {
              "fillmode": "overlay",
              "size": 10,
              "solidity": 0.2
             }
            },
            "type": "histogram"
           }
          ],
          "histogram2d": [
           {
            "colorbar": {
             "outlinewidth": 0,
             "ticks": ""
            },
            "colorscale": [
             [
              0,
              "#0d0887"
             ],
             [
              0.1111111111111111,
              "#46039f"
             ],
             [
              0.2222222222222222,
              "#7201a8"
             ],
             [
              0.3333333333333333,
              "#9c179e"
             ],
             [
              0.4444444444444444,
              "#bd3786"
             ],
             [
              0.5555555555555556,
              "#d8576b"
             ],
             [
              0.6666666666666666,
              "#ed7953"
             ],
             [
              0.7777777777777778,
              "#fb9f3a"
             ],
             [
              0.8888888888888888,
              "#fdca26"
             ],
             [
              1,
              "#f0f921"
             ]
            ],
            "type": "histogram2d"
           }
          ],
          "histogram2dcontour": [
           {
            "colorbar": {
             "outlinewidth": 0,
             "ticks": ""
            },
            "colorscale": [
             [
              0,
              "#0d0887"
             ],
             [
              0.1111111111111111,
              "#46039f"
             ],
             [
              0.2222222222222222,
              "#7201a8"
             ],
             [
              0.3333333333333333,
              "#9c179e"
             ],
             [
              0.4444444444444444,
              "#bd3786"
             ],
             [
              0.5555555555555556,
              "#d8576b"
             ],
             [
              0.6666666666666666,
              "#ed7953"
             ],
             [
              0.7777777777777778,
              "#fb9f3a"
             ],
             [
              0.8888888888888888,
              "#fdca26"
             ],
             [
              1,
              "#f0f921"
             ]
            ],
            "type": "histogram2dcontour"
           }
          ],
          "mesh3d": [
           {
            "colorbar": {
             "outlinewidth": 0,
             "ticks": ""
            },
            "type": "mesh3d"
           }
          ],
          "parcoords": [
           {
            "line": {
             "colorbar": {
              "outlinewidth": 0,
              "ticks": ""
             }
            },
            "type": "parcoords"
           }
          ],
          "pie": [
           {
            "automargin": true,
            "type": "pie"
           }
          ],
          "scatter": [
           {
            "fillpattern": {
             "fillmode": "overlay",
             "size": 10,
             "solidity": 0.2
            },
            "type": "scatter"
           }
          ],
          "scatter3d": [
           {
            "line": {
             "colorbar": {
              "outlinewidth": 0,
              "ticks": ""
             }
            },
            "marker": {
             "colorbar": {
              "outlinewidth": 0,
              "ticks": ""
             }
            },
            "type": "scatter3d"
           }
          ],
          "scattercarpet": [
           {
            "marker": {
             "colorbar": {
              "outlinewidth": 0,
              "ticks": ""
             }
            },
            "type": "scattercarpet"
           }
          ],
          "scattergeo": [
           {
            "marker": {
             "colorbar": {
              "outlinewidth": 0,
              "ticks": ""
             }
            },
            "type": "scattergeo"
           }
          ],
          "scattergl": [
           {
            "marker": {
             "colorbar": {
              "outlinewidth": 0,
              "ticks": ""
             }
            },
            "type": "scattergl"
           }
          ],
          "scattermap": [
           {
            "marker": {
             "colorbar": {
              "outlinewidth": 0,
              "ticks": ""
             }
            },
            "type": "scattermap"
           }
          ],
          "scattermapbox": [
           {
            "marker": {
             "colorbar": {
              "outlinewidth": 0,
              "ticks": ""
             }
            },
            "type": "scattermapbox"
           }
          ],
          "scatterpolar": [
           {
            "marker": {
             "colorbar": {
              "outlinewidth": 0,
              "ticks": ""
             }
            },
            "type": "scatterpolar"
           }
          ],
          "scatterpolargl": [
           {
            "marker": {
             "colorbar": {
              "outlinewidth": 0,
              "ticks": ""
             }
            },
            "type": "scatterpolargl"
           }
          ],
          "scatterternary": [
           {
            "marker": {
             "colorbar": {
              "outlinewidth": 0,
              "ticks": ""
             }
            },
            "type": "scatterternary"
           }
          ],
          "surface": [
           {
            "colorbar": {
             "outlinewidth": 0,
             "ticks": ""
            },
            "colorscale": [
             [
              0,
              "#0d0887"
             ],
             [
              0.1111111111111111,
              "#46039f"
             ],
             [
              0.2222222222222222,
              "#7201a8"
             ],
             [
              0.3333333333333333,
              "#9c179e"
             ],
             [
              0.4444444444444444,
              "#bd3786"
             ],
             [
              0.5555555555555556,
              "#d8576b"
             ],
             [
              0.6666666666666666,
              "#ed7953"
             ],
             [
              0.7777777777777778,
              "#fb9f3a"
             ],
             [
              0.8888888888888888,
              "#fdca26"
             ],
             [
              1,
              "#f0f921"
             ]
            ],
            "type": "surface"
           }
          ],
          "table": [
           {
            "cells": {
             "fill": {
              "color": "#EBF0F8"
             },
             "line": {
              "color": "white"
             }
            },
            "header": {
             "fill": {
              "color": "#C8D4E3"
             },
             "line": {
              "color": "white"
             }
            },
            "type": "table"
           }
          ]
         },
         "layout": {
          "annotationdefaults": {
           "arrowcolor": "#2a3f5f",
           "arrowhead": 0,
           "arrowwidth": 1
          },
          "autotypenumbers": "strict",
          "coloraxis": {
           "colorbar": {
            "outlinewidth": 0,
            "ticks": ""
           }
          },
          "colorscale": {
           "diverging": [
            [
             0,
             "#8e0152"
            ],
            [
             0.1,
             "#c51b7d"
            ],
            [
             0.2,
             "#de77ae"
            ],
            [
             0.3,
             "#f1b6da"
            ],
            [
             0.4,
             "#fde0ef"
            ],
            [
             0.5,
             "#f7f7f7"
            ],
            [
             0.6,
             "#e6f5d0"
            ],
            [
             0.7,
             "#b8e186"
            ],
            [
             0.8,
             "#7fbc41"
            ],
            [
             0.9,
             "#4d9221"
            ],
            [
             1,
             "#276419"
            ]
           ],
           "sequential": [
            [
             0,
             "#0d0887"
            ],
            [
             0.1111111111111111,
             "#46039f"
            ],
            [
             0.2222222222222222,
             "#7201a8"
            ],
            [
             0.3333333333333333,
             "#9c179e"
            ],
            [
             0.4444444444444444,
             "#bd3786"
            ],
            [
             0.5555555555555556,
             "#d8576b"
            ],
            [
             0.6666666666666666,
             "#ed7953"
            ],
            [
             0.7777777777777778,
             "#fb9f3a"
            ],
            [
             0.8888888888888888,
             "#fdca26"
            ],
            [
             1,
             "#f0f921"
            ]
           ],
           "sequentialminus": [
            [
             0,
             "#0d0887"
            ],
            [
             0.1111111111111111,
             "#46039f"
            ],
            [
             0.2222222222222222,
             "#7201a8"
            ],
            [
             0.3333333333333333,
             "#9c179e"
            ],
            [
             0.4444444444444444,
             "#bd3786"
            ],
            [
             0.5555555555555556,
             "#d8576b"
            ],
            [
             0.6666666666666666,
             "#ed7953"
            ],
            [
             0.7777777777777778,
             "#fb9f3a"
            ],
            [
             0.8888888888888888,
             "#fdca26"
            ],
            [
             1,
             "#f0f921"
            ]
           ]
          },
          "colorway": [
           "#636efa",
           "#EF553B",
           "#00cc96",
           "#ab63fa",
           "#FFA15A",
           "#19d3f3",
           "#FF6692",
           "#B6E880",
           "#FF97FF",
           "#FECB52"
          ],
          "font": {
           "color": "#2a3f5f"
          },
          "geo": {
           "bgcolor": "white",
           "lakecolor": "white",
           "landcolor": "#E5ECF6",
           "showlakes": true,
           "showland": true,
           "subunitcolor": "white"
          },
          "hoverlabel": {
           "align": "left"
          },
          "hovermode": "closest",
          "mapbox": {
           "style": "light"
          },
          "paper_bgcolor": "white",
          "plot_bgcolor": "#E5ECF6",
          "polar": {
           "angularaxis": {
            "gridcolor": "white",
            "linecolor": "white",
            "ticks": ""
           },
           "bgcolor": "#E5ECF6",
           "radialaxis": {
            "gridcolor": "white",
            "linecolor": "white",
            "ticks": ""
           }
          },
          "scene": {
           "xaxis": {
            "backgroundcolor": "#E5ECF6",
            "gridcolor": "white",
            "gridwidth": 2,
            "linecolor": "white",
            "showbackground": true,
            "ticks": "",
            "zerolinecolor": "white"
           },
           "yaxis": {
            "backgroundcolor": "#E5ECF6",
            "gridcolor": "white",
            "gridwidth": 2,
            "linecolor": "white",
            "showbackground": true,
            "ticks": "",
            "zerolinecolor": "white"
           },
           "zaxis": {
            "backgroundcolor": "#E5ECF6",
            "gridcolor": "white",
            "gridwidth": 2,
            "linecolor": "white",
            "showbackground": true,
            "ticks": "",
            "zerolinecolor": "white"
           }
          },
          "shapedefaults": {
           "line": {
            "color": "#2a3f5f"
           }
          },
          "ternary": {
           "aaxis": {
            "gridcolor": "white",
            "linecolor": "white",
            "ticks": ""
           },
           "baxis": {
            "gridcolor": "white",
            "linecolor": "white",
            "ticks": ""
           },
           "bgcolor": "#E5ECF6",
           "caxis": {
            "gridcolor": "white",
            "linecolor": "white",
            "ticks": ""
           }
          },
          "title": {
           "x": 0.05
          },
          "xaxis": {
           "automargin": true,
           "gridcolor": "white",
           "linecolor": "white",
           "ticks": "",
           "title": {
            "standoff": 15
           },
           "zerolinecolor": "white",
           "zerolinewidth": 2
          },
          "yaxis": {
           "automargin": true,
           "gridcolor": "white",
           "linecolor": "white",
           "ticks": "",
           "title": {
            "standoff": 15
           },
           "zerolinecolor": "white",
           "zerolinewidth": 2
          }
         }
        },
        "title": {
         "text": "Cumulative Returns (non-compounded)"
        },
        "xaxis": {
         "anchor": "y",
         "domain": [
          0,
          1
         ],
         "title": {
          "text": "Observations"
         }
        },
        "yaxis": {
         "anchor": "x",
         "domain": [
          0,
          1
         ],
         "tickformat": ".2%",
         "title": {
          "text": "Cumulative Returns"
         }
        }
       }
      }
     },
     "metadata": {},
     "output_type": "display_data"
    }
   ],
   "source": [
    "returns"
   ]
  },
  {
   "cell_type": "code",
   "execution_count": 20,
   "id": "4eb0f201-0b9c-4193-925f-ae2afa8cfb58",
   "metadata": {},
   "outputs": [
    {
     "data": {
      "text/html": [
       "<iframe\n",
       "    scrolling=\"no\"\n",
       "    width=\"100%\"\n",
       "    height=\"545px\"\n",
       "    src=\"iframe_figures/figure_20.html\"\n",
       "    frameborder=\"0\"\n",
       "    allowfullscreen\n",
       "></iframe>\n"
      ]
     },
     "metadata": {},
     "output_type": "display_data"
    }
   ],
   "source": [
    "composition = pred_stacking.plot_composition()\n",
    "composition.show(renderer='iframe')"
   ]
  },
  {
   "cell_type": "code",
   "execution_count": 21,
   "id": "4026fdd3-48c8-4c71-8b74-c7251c98ad17",
   "metadata": {
    "editable": true,
    "slideshow": {
     "slide_type": ""
    },
    "tags": []
   },
   "outputs": [
    {
     "data": {
      "text/plain": [
       "Mean                                     0.040%\n",
       "Annualized Mean                          10.12%\n",
       "Variance                               0.00077%\n",
       "Annualized Variance                       0.19%\n",
       "Semi-Variance                          0.00044%\n",
       "Annualized Semi-Variance                  0.11%\n",
       "Standard Deviation                        0.28%\n",
       "Annualized Standard Deviation             4.40%\n",
       "Semi-Deviation                            0.21%\n",
       "Annualized Semi-Deviation                 3.32%\n",
       "Mean Absolute Deviation                   0.19%\n",
       "CVaR at 95%                               0.60%\n",
       "EVaR at 95%                               1.53%\n",
       "Worst Realization                         2.59%\n",
       "CDaR at 95%                               2.13%\n",
       "MAX Drawdown                              3.11%\n",
       "Average Drawdown                          0.48%\n",
       "EDaR at 95%                               2.37%\n",
       "First Lower Partial Moment               0.096%\n",
       "Ulcer Index                              0.0074\n",
       "Gini Mean Difference                      0.28%\n",
       "Value at Risk at 95%                      0.33%\n",
       "Drawdown at Risk at 95%                   1.69%\n",
       "Entropic Risk Measure at 95%               3.00\n",
       "Fourth Central Moment                 0.000000%\n",
       "Fourth Lower Partial Moment           0.000000%\n",
       "Skew                                   -146.54%\n",
       "Kurtosis                               1977.85%\n",
       "Sharpe Ratio                               0.14\n",
       "Annualized Sharpe Ratio                    2.30\n",
       "Sortino Ratio                              0.19\n",
       "Annualized Sortino Ratio                   3.05\n",
       "Mean Absolute Deviation Ratio              0.21\n",
       "First Lower Partial Moment Ratio           0.42\n",
       "Value at Risk Ratio at 95%                 0.12\n",
       "CVaR Ratio at 95%                         0.067\n",
       "Entropic Risk Measure Ratio at 95%      0.00013\n",
       "EVaR Ratio at 95%                         0.026\n",
       "Worst Realization Ratio                   0.015\n",
       "Drawdown at Risk Ratio at 95%             0.024\n",
       "CDaR Ratio at 95%                         0.019\n",
       "Calmar Ratio                              0.013\n",
       "Average Drawdown Ratio                    0.084\n",
       "EDaR Ratio at 95%                         0.017\n",
       "Ulcer Index Ratio                         0.055\n",
       "Gini Mean Difference Ratio                 0.14\n",
       "Portfolios Number                            28\n",
       "Avg nb of Assets per Portfolio             12.0\n",
       "dtype: object"
      ]
     },
     "execution_count": 21,
     "metadata": {},
     "output_type": "execute_result"
    }
   ],
   "source": [
    "pred_stacking.summary()"
   ]
  },
  {
   "cell_type": "code",
   "execution_count": 19,
   "id": "b1f53cff-929e-471a-b281-214fabeb70b6",
   "metadata": {},
   "outputs": [
    {
     "data": {
      "text/html": [
       "<div>\n",
       "<style scoped>\n",
       "    .dataframe tbody tr th:only-of-type {\n",
       "        vertical-align: middle;\n",
       "    }\n",
       "\n",
       "    .dataframe tbody tr th {\n",
       "        vertical-align: top;\n",
       "    }\n",
       "\n",
       "    .dataframe thead th {\n",
       "        text-align: right;\n",
       "    }\n",
       "</style>\n",
       "<table border=\"1\" class=\"dataframe\">\n",
       "  <thead>\n",
       "    <tr style=\"text-align: right;\">\n",
       "      <th></th>\n",
       "      <th>159726</th>\n",
       "      <th>159985</th>\n",
       "      <th>161119</th>\n",
       "      <th>164824</th>\n",
       "      <th>513030</th>\n",
       "      <th>513100</th>\n",
       "      <th>513330</th>\n",
       "      <th>513500</th>\n",
       "      <th>513520</th>\n",
       "      <th>515100</th>\n",
       "      <th>518880</th>\n",
       "      <th>561300</th>\n",
       "    </tr>\n",
       "  </thead>\n",
       "  <tbody>\n",
       "    <tr>\n",
       "      <th>2022-09-01</th>\n",
       "      <td>0.018662</td>\n",
       "      <td>0.028534</td>\n",
       "      <td>0.670745</td>\n",
       "      <td>0.053054</td>\n",
       "      <td>0.021103</td>\n",
       "      <td>0.021200</td>\n",
       "      <td>0.013135</td>\n",
       "      <td>0.017874</td>\n",
       "      <td>0.019541</td>\n",
       "      <td>0.017503</td>\n",
       "      <td>0.101688</td>\n",
       "      <td>0.016961</td>\n",
       "    </tr>\n",
       "    <tr>\n",
       "      <th>2022-09-02</th>\n",
       "      <td>0.018662</td>\n",
       "      <td>0.028534</td>\n",
       "      <td>0.670745</td>\n",
       "      <td>0.053054</td>\n",
       "      <td>0.021103</td>\n",
       "      <td>0.021200</td>\n",
       "      <td>0.013135</td>\n",
       "      <td>0.017874</td>\n",
       "      <td>0.019541</td>\n",
       "      <td>0.017503</td>\n",
       "      <td>0.101688</td>\n",
       "      <td>0.016961</td>\n",
       "    </tr>\n",
       "    <tr>\n",
       "      <th>2022-09-05</th>\n",
       "      <td>0.018662</td>\n",
       "      <td>0.028534</td>\n",
       "      <td>0.670745</td>\n",
       "      <td>0.053054</td>\n",
       "      <td>0.021103</td>\n",
       "      <td>0.021200</td>\n",
       "      <td>0.013135</td>\n",
       "      <td>0.017874</td>\n",
       "      <td>0.019541</td>\n",
       "      <td>0.017503</td>\n",
       "      <td>0.101688</td>\n",
       "      <td>0.016961</td>\n",
       "    </tr>\n",
       "    <tr>\n",
       "      <th>2022-09-06</th>\n",
       "      <td>0.018662</td>\n",
       "      <td>0.028534</td>\n",
       "      <td>0.670745</td>\n",
       "      <td>0.053054</td>\n",
       "      <td>0.021103</td>\n",
       "      <td>0.021200</td>\n",
       "      <td>0.013135</td>\n",
       "      <td>0.017874</td>\n",
       "      <td>0.019541</td>\n",
       "      <td>0.017503</td>\n",
       "      <td>0.101688</td>\n",
       "      <td>0.016961</td>\n",
       "    </tr>\n",
       "    <tr>\n",
       "      <th>2022-09-07</th>\n",
       "      <td>0.018662</td>\n",
       "      <td>0.028534</td>\n",
       "      <td>0.670745</td>\n",
       "      <td>0.053054</td>\n",
       "      <td>0.021103</td>\n",
       "      <td>0.021200</td>\n",
       "      <td>0.013135</td>\n",
       "      <td>0.017874</td>\n",
       "      <td>0.019541</td>\n",
       "      <td>0.017503</td>\n",
       "      <td>0.101688</td>\n",
       "      <td>0.016961</td>\n",
       "    </tr>\n",
       "    <tr>\n",
       "      <th>...</th>\n",
       "      <td>...</td>\n",
       "      <td>...</td>\n",
       "      <td>...</td>\n",
       "      <td>...</td>\n",
       "      <td>...</td>\n",
       "      <td>...</td>\n",
       "      <td>...</td>\n",
       "      <td>...</td>\n",
       "      <td>...</td>\n",
       "      <td>...</td>\n",
       "      <td>...</td>\n",
       "      <td>...</td>\n",
       "    </tr>\n",
       "    <tr>\n",
       "      <th>2025-06-24</th>\n",
       "      <td>0.016205</td>\n",
       "      <td>0.058234</td>\n",
       "      <td>0.676137</td>\n",
       "      <td>0.030993</td>\n",
       "      <td>0.030080</td>\n",
       "      <td>0.009944</td>\n",
       "      <td>0.027933</td>\n",
       "      <td>0.016175</td>\n",
       "      <td>0.022993</td>\n",
       "      <td>0.042024</td>\n",
       "      <td>0.045668</td>\n",
       "      <td>0.023614</td>\n",
       "    </tr>\n",
       "    <tr>\n",
       "      <th>2025-06-25</th>\n",
       "      <td>0.016205</td>\n",
       "      <td>0.058234</td>\n",
       "      <td>0.676137</td>\n",
       "      <td>0.030993</td>\n",
       "      <td>0.030080</td>\n",
       "      <td>0.009944</td>\n",
       "      <td>0.027933</td>\n",
       "      <td>0.016175</td>\n",
       "      <td>0.022993</td>\n",
       "      <td>0.042024</td>\n",
       "      <td>0.045668</td>\n",
       "      <td>0.023614</td>\n",
       "    </tr>\n",
       "    <tr>\n",
       "      <th>2025-06-26</th>\n",
       "      <td>0.016205</td>\n",
       "      <td>0.058234</td>\n",
       "      <td>0.676137</td>\n",
       "      <td>0.030993</td>\n",
       "      <td>0.030080</td>\n",
       "      <td>0.009944</td>\n",
       "      <td>0.027933</td>\n",
       "      <td>0.016175</td>\n",
       "      <td>0.022993</td>\n",
       "      <td>0.042024</td>\n",
       "      <td>0.045668</td>\n",
       "      <td>0.023614</td>\n",
       "    </tr>\n",
       "    <tr>\n",
       "      <th>2025-06-27</th>\n",
       "      <td>0.016205</td>\n",
       "      <td>0.058234</td>\n",
       "      <td>0.676137</td>\n",
       "      <td>0.030993</td>\n",
       "      <td>0.030080</td>\n",
       "      <td>0.009944</td>\n",
       "      <td>0.027933</td>\n",
       "      <td>0.016175</td>\n",
       "      <td>0.022993</td>\n",
       "      <td>0.042024</td>\n",
       "      <td>0.045668</td>\n",
       "      <td>0.023614</td>\n",
       "    </tr>\n",
       "    <tr>\n",
       "      <th>2025-06-30</th>\n",
       "      <td>0.016205</td>\n",
       "      <td>0.058234</td>\n",
       "      <td>0.676137</td>\n",
       "      <td>0.030993</td>\n",
       "      <td>0.030080</td>\n",
       "      <td>0.009944</td>\n",
       "      <td>0.027933</td>\n",
       "      <td>0.016175</td>\n",
       "      <td>0.022993</td>\n",
       "      <td>0.042024</td>\n",
       "      <td>0.045668</td>\n",
       "      <td>0.023614</td>\n",
       "    </tr>\n",
       "  </tbody>\n",
       "</table>\n",
       "<p>681 rows × 12 columns</p>\n",
       "</div>"
      ],
      "text/plain": [
       "              159726    159985    161119    164824    513030    513100  \\\n",
       "2022-09-01  0.018662  0.028534  0.670745  0.053054  0.021103  0.021200   \n",
       "2022-09-02  0.018662  0.028534  0.670745  0.053054  0.021103  0.021200   \n",
       "2022-09-05  0.018662  0.028534  0.670745  0.053054  0.021103  0.021200   \n",
       "2022-09-06  0.018662  0.028534  0.670745  0.053054  0.021103  0.021200   \n",
       "2022-09-07  0.018662  0.028534  0.670745  0.053054  0.021103  0.021200   \n",
       "...              ...       ...       ...       ...       ...       ...   \n",
       "2025-06-24  0.016205  0.058234  0.676137  0.030993  0.030080  0.009944   \n",
       "2025-06-25  0.016205  0.058234  0.676137  0.030993  0.030080  0.009944   \n",
       "2025-06-26  0.016205  0.058234  0.676137  0.030993  0.030080  0.009944   \n",
       "2025-06-27  0.016205  0.058234  0.676137  0.030993  0.030080  0.009944   \n",
       "2025-06-30  0.016205  0.058234  0.676137  0.030993  0.030080  0.009944   \n",
       "\n",
       "              513330    513500    513520    515100    518880    561300  \n",
       "2022-09-01  0.013135  0.017874  0.019541  0.017503  0.101688  0.016961  \n",
       "2022-09-02  0.013135  0.017874  0.019541  0.017503  0.101688  0.016961  \n",
       "2022-09-05  0.013135  0.017874  0.019541  0.017503  0.101688  0.016961  \n",
       "2022-09-06  0.013135  0.017874  0.019541  0.017503  0.101688  0.016961  \n",
       "2022-09-07  0.013135  0.017874  0.019541  0.017503  0.101688  0.016961  \n",
       "...              ...       ...       ...       ...       ...       ...  \n",
       "2025-06-24  0.027933  0.016175  0.022993  0.042024  0.045668  0.023614  \n",
       "2025-06-25  0.027933  0.016175  0.022993  0.042024  0.045668  0.023614  \n",
       "2025-06-26  0.027933  0.016175  0.022993  0.042024  0.045668  0.023614  \n",
       "2025-06-27  0.027933  0.016175  0.022993  0.042024  0.045668  0.023614  \n",
       "2025-06-30  0.027933  0.016175  0.022993  0.042024  0.045668  0.023614  \n",
       "\n",
       "[681 rows x 12 columns]"
      ]
     },
     "execution_count": 19,
     "metadata": {},
     "output_type": "execute_result"
    }
   ],
   "source": [
    "pred_stacking.weights_per_observation"
   ]
  },
  {
   "cell_type": "code",
   "execution_count": 20,
   "id": "2cacda4c-ac53-4f41-bace-859560e7f9c6",
   "metadata": {},
   "outputs": [],
   "source": [
    "df_c = df_pivot.copy()\n",
    "df_c = prices_to_returns(df_c)\n",
    "df_c.index = pd.to_datetime(df_c.index)\n",
    "\n",
    "end_date = df_c.index.max()\n",
    "\n",
    "train_start_date = (end_date - pd.DateOffset(months=7))\n",
    "train_end_date = (end_date - pd.DateOffset(months=1))\n",
    "\n",
    "train_df = df_c.loc[train_start_date:train_end_date]\n",
    "predict_df = df_c.loc[train_end_date:]\n",
    "\n",
    "model_stacking.fit(train_df)\n",
    "\n",
    "pred_weight = model_stacking.predict(predict_df)"
   ]
  },
  {
   "cell_type": "code",
   "execution_count": 21,
   "id": "98277469-482c-4d4c-b480-bfe13de336a2",
   "metadata": {},
   "outputs": [
    {
     "data": {
      "text/plain": [
       "Timestamp('2024-12-31 00:00:00')"
      ]
     },
     "execution_count": 21,
     "metadata": {},
     "output_type": "execute_result"
    }
   ],
   "source": [
    "train_start_date"
   ]
  },
  {
   "cell_type": "code",
   "execution_count": 22,
   "id": "ca97d994-7817-41ee-bbf5-50bf66ccec4b",
   "metadata": {},
   "outputs": [
    {
     "data": {
      "text/html": [
       "<div>\n",
       "<style scoped>\n",
       "    .dataframe tbody tr th:only-of-type {\n",
       "        vertical-align: middle;\n",
       "    }\n",
       "\n",
       "    .dataframe tbody tr th {\n",
       "        vertical-align: top;\n",
       "    }\n",
       "\n",
       "    .dataframe thead th {\n",
       "        text-align: right;\n",
       "    }\n",
       "</style>\n",
       "<table border=\"1\" class=\"dataframe\">\n",
       "  <thead>\n",
       "    <tr style=\"text-align: right;\">\n",
       "      <th></th>\n",
       "      <th>159726</th>\n",
       "      <th>159985</th>\n",
       "      <th>161119</th>\n",
       "      <th>164824</th>\n",
       "      <th>513030</th>\n",
       "      <th>513100</th>\n",
       "      <th>513330</th>\n",
       "      <th>513500</th>\n",
       "      <th>513520</th>\n",
       "      <th>515100</th>\n",
       "      <th>518880</th>\n",
       "      <th>561300</th>\n",
       "    </tr>\n",
       "  </thead>\n",
       "  <tbody>\n",
       "    <tr>\n",
       "      <th>2025-07-24</th>\n",
       "      <td>0.02</td>\n",
       "      <td>0.06</td>\n",
       "      <td>0.67</td>\n",
       "      <td>0.03</td>\n",
       "      <td>0.03</td>\n",
       "      <td>0.01</td>\n",
       "      <td>0.03</td>\n",
       "      <td>0.02</td>\n",
       "      <td>0.02</td>\n",
       "      <td>0.04</td>\n",
       "      <td>0.04</td>\n",
       "      <td>0.03</td>\n",
       "    </tr>\n",
       "    <tr>\n",
       "      <th>2025-07-25</th>\n",
       "      <td>0.02</td>\n",
       "      <td>0.06</td>\n",
       "      <td>0.67</td>\n",
       "      <td>0.03</td>\n",
       "      <td>0.03</td>\n",
       "      <td>0.01</td>\n",
       "      <td>0.03</td>\n",
       "      <td>0.02</td>\n",
       "      <td>0.02</td>\n",
       "      <td>0.04</td>\n",
       "      <td>0.04</td>\n",
       "      <td>0.03</td>\n",
       "    </tr>\n",
       "    <tr>\n",
       "      <th>2025-07-28</th>\n",
       "      <td>0.02</td>\n",
       "      <td>0.06</td>\n",
       "      <td>0.67</td>\n",
       "      <td>0.03</td>\n",
       "      <td>0.03</td>\n",
       "      <td>0.01</td>\n",
       "      <td>0.03</td>\n",
       "      <td>0.02</td>\n",
       "      <td>0.02</td>\n",
       "      <td>0.04</td>\n",
       "      <td>0.04</td>\n",
       "      <td>0.03</td>\n",
       "    </tr>\n",
       "    <tr>\n",
       "      <th>2025-07-29</th>\n",
       "      <td>0.02</td>\n",
       "      <td>0.06</td>\n",
       "      <td>0.67</td>\n",
       "      <td>0.03</td>\n",
       "      <td>0.03</td>\n",
       "      <td>0.01</td>\n",
       "      <td>0.03</td>\n",
       "      <td>0.02</td>\n",
       "      <td>0.02</td>\n",
       "      <td>0.04</td>\n",
       "      <td>0.04</td>\n",
       "      <td>0.03</td>\n",
       "    </tr>\n",
       "    <tr>\n",
       "      <th>2025-07-30</th>\n",
       "      <td>0.02</td>\n",
       "      <td>0.06</td>\n",
       "      <td>0.67</td>\n",
       "      <td>0.03</td>\n",
       "      <td>0.03</td>\n",
       "      <td>0.01</td>\n",
       "      <td>0.03</td>\n",
       "      <td>0.02</td>\n",
       "      <td>0.02</td>\n",
       "      <td>0.04</td>\n",
       "      <td>0.04</td>\n",
       "      <td>0.03</td>\n",
       "    </tr>\n",
       "    <tr>\n",
       "      <th>2025-07-31</th>\n",
       "      <td>0.02</td>\n",
       "      <td>0.06</td>\n",
       "      <td>0.67</td>\n",
       "      <td>0.03</td>\n",
       "      <td>0.03</td>\n",
       "      <td>0.01</td>\n",
       "      <td>0.03</td>\n",
       "      <td>0.02</td>\n",
       "      <td>0.02</td>\n",
       "      <td>0.04</td>\n",
       "      <td>0.04</td>\n",
       "      <td>0.03</td>\n",
       "    </tr>\n",
       "  </tbody>\n",
       "</table>\n",
       "</div>"
      ],
      "text/plain": [
       "            159726  159985  161119  164824  513030  513100  513330  513500  \\\n",
       "2025-07-24    0.02    0.06    0.67    0.03    0.03    0.01    0.03    0.02   \n",
       "2025-07-25    0.02    0.06    0.67    0.03    0.03    0.01    0.03    0.02   \n",
       "2025-07-28    0.02    0.06    0.67    0.03    0.03    0.01    0.03    0.02   \n",
       "2025-07-29    0.02    0.06    0.67    0.03    0.03    0.01    0.03    0.02   \n",
       "2025-07-30    0.02    0.06    0.67    0.03    0.03    0.01    0.03    0.02   \n",
       "2025-07-31    0.02    0.06    0.67    0.03    0.03    0.01    0.03    0.02   \n",
       "\n",
       "            513520  515100  518880  561300  \n",
       "2025-07-24    0.02    0.04    0.04    0.03  \n",
       "2025-07-25    0.02    0.04    0.04    0.03  \n",
       "2025-07-28    0.02    0.04    0.04    0.03  \n",
       "2025-07-29    0.02    0.04    0.04    0.03  \n",
       "2025-07-30    0.02    0.04    0.04    0.03  \n",
       "2025-07-31    0.02    0.04    0.04    0.03  "
      ]
     },
     "execution_count": 22,
     "metadata": {},
     "output_type": "execute_result"
    }
   ],
   "source": [
    "weight_df = pred_weight.weights_per_observation.tail(6)\n",
    "weight_df.round(2)"
   ]
  },
  {
   "cell_type": "code",
   "execution_count": null,
   "id": "2580f97d-9be5-44a4-b3ef-6cc7ac160e3a",
   "metadata": {},
   "outputs": [],
   "source": []
  }
 ],
 "metadata": {
  "kernelspec": {
   "display_name": "Python (uv)",
   "language": "python",
   "name": "python3"
  },
  "language_info": {
   "codemirror_mode": {
    "name": "ipython",
    "version": 3
   },
   "file_extension": ".py",
   "mimetype": "text/x-python",
   "name": "python",
   "nbconvert_exporter": "python",
   "pygments_lexer": "ipython3",
   "version": "3.11.10"
  }
 },
 "nbformat": 4,
 "nbformat_minor": 5
}
